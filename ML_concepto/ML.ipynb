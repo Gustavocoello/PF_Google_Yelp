{
 "cells": [
  {
   "cell_type": "markdown",
   "metadata": {},
   "source": [
    "## **MACHINE LEARNING PRODUCTS (MLOps)**\n",
    "\n",
    "\n",
    "***En este cuaderno jupiter se encuentra un producto minimo viable, de nuestros proyecto - \"Sistema de Recomendacion del Mundial del 2026\" solo vamos  a utilizar solo la data de Google Maps***"
   ]
  },
  {
   "cell_type": "code",
   "execution_count": 1,
   "metadata": {},
   "outputs": [],
   "source": [
    "# Librerias\n",
    "import pymysql\n",
    "import mysql.connector\n",
    "from mysql.connector import Error\n",
    "from sqlalchemy import create_engine\n",
    "from dotenv import load_dotenv\n",
    "import pandas as pd\n",
    "import os"
   ]
  },
  {
   "cell_type": "code",
   "execution_count": 2,
   "metadata": {},
   "outputs": [],
   "source": [
    "# La data se encuentra en AWS vamos a conectar\n",
    "# Cargamos el archivo .env\n",
    "load_dotenv()\n",
    "\n",
    "# Acceder a las variables entorno\n",
    "password_bd = os.getenv(\"PASS_BD\")\n",
    "user_bd = os.getenv(\"USER_BD\")\n",
    "host_name = os.getenv(\"HOST_NAME\")\n",
    "name_bd = os.getenv(\"NAME_BD\")\n",
    "\n",
    "# Conectamos la base de datos\n",
    "\n",
    "\n",
    "def BD_connection(host_name, user_bd, user_pass, name_bd):\n",
    "    connection = None\n",
    "    try:\n",
    "        connection = mysql.connector.connect(\n",
    "            host=host_name,\n",
    "            user=user_bd,\n",
    "            passwd=user_pass,\n",
    "            database=name_bd,\n",
    "            port=3306\n",
    "        )\n",
    "        print(\"MYSQL DATABASE connection succesful\")\n",
    "    except Error as err:\n",
    "        print(f\"Error: '{err}'\")\n",
    "    return connection"
   ]
  },
  {
   "cell_type": "code",
   "execution_count": 3,
   "metadata": {},
   "outputs": [
    {
     "name": "stdout",
     "output_type": "stream",
     "text": [
      "MYSQL DATABASE connection succesful\n"
     ]
    }
   ],
   "source": [
    "connection = BD_connection(host_name, user_bd, password_bd, name_bd)"
   ]
  },
  {
   "cell_type": "code",
   "execution_count": 4,
   "metadata": {},
   "outputs": [
    {
     "name": "stdout",
     "output_type": "stream",
     "text": [
      "Conectado a la base de datos: Google\n"
     ]
    }
   ],
   "source": [
    "# verifiquemos la conexion realizando una consulta simple\n",
    "if connection:\n",
    "    cursor = connection.cursor()\n",
    "    cursor.execute(\"SELECT DATABASE()\")\n",
    "    db = cursor.fetchone()\n",
    "    print(f\"Conectado a la base de datos: {db[0]}\")"
   ]
  },
  {
   "cell_type": "code",
   "execution_count": 5,
   "metadata": {},
   "outputs": [],
   "source": [
    "# Funcion para obtener las tablas disponibles\n",
    "def show_tables(connection):\n",
    "    cursor = connection.cursor()\n",
    "    cursor.execute(\"SHOW TABLES\")\n",
    "    tables = cursor.fetchall()\n",
    "    for table in tables:\n",
    "        print(table)"
   ]
  },
  {
   "cell_type": "code",
   "execution_count": 6,
   "metadata": {},
   "outputs": [
    {
     "name": "stdout",
     "output_type": "stream",
     "text": [
      "MYSQL DATABASE connection succesful\n",
      "('sites',)\n",
      "('users_google',)\n"
     ]
    }
   ],
   "source": [
    "# Corremos la query\n",
    "connection = BD_connection(host_name, user_bd, password_bd, name_bd)\n",
    "show_tables(connection)"
   ]
  },
  {
   "cell_type": "code",
   "execution_count": 7,
   "metadata": {},
   "outputs": [],
   "source": [
    "# Funcion para describir la estructura de una tabla\n",
    "def describe_table(connection, table_name):\n",
    "    cursor = connection.cursor()\n",
    "    query = f\"DESCRIBE {table_name}\"\n",
    "    cursor.execute(query)\n",
    "    columns = cursor.fetchall()\n",
    "    for column in columns:\n",
    "        print(column)"
   ]
  },
  {
   "cell_type": "code",
   "execution_count": 8,
   "metadata": {},
   "outputs": [
    {
     "name": "stdout",
     "output_type": "stream",
     "text": [
      "('id_user', b'varchar(100)', 'NO', 'PRI', None, '')\n",
      "('name', b'varchar(50)', 'NO', '', None, '')\n",
      "('time_comment', b'date', 'YES', '', None, '')\n",
      "('text_comment', b'varchar(1000)', 'YES', '', None, '')\n",
      "('raiting', b'int', 'YES', '', None, '')\n",
      "('pics', b'varchar(2048)', 'YES', '', None, '')\n",
      "('time_resp', b'date', 'YES', '', None, '')\n",
      "('text_resp', b'varchar(1000)', 'YES', '', None, '')\n",
      "('gmap_id', b'varchar(100)', 'YES', 'MUL', None, '')\n",
      "('state', b'varchar(30)', 'YES', '', None, '')\n"
     ]
    }
   ],
   "source": [
    "describe_table(connection, 'users_google')"
   ]
  },
  {
   "cell_type": "code",
   "execution_count": 9,
   "metadata": {},
   "outputs": [],
   "source": [
    "# Vamos a utilizar esta funcion para correr queries\n",
    "def execute_query(connection, query):\n",
    "    cursor = connection.cursor()\n",
    "    try:\n",
    "        cursor.execute(query)\n",
    "        connection.commit()\n",
    "        print(\"Query hecha con éxito\")\n",
    "    except Error as err:\n",
    "        print(\"Error\", err)"
   ]
  },
  {
   "cell_type": "code",
   "execution_count": 10,
   "metadata": {},
   "outputs": [],
   "source": [
    "def execute_query(connection, query, fetch_data=False):\n",
    "    \"\"\"\n",
    "    Ejecuta una consulta SQL en la base de datos conectada.\n",
    "\n",
    "    Args:\n",
    "    - connection: Conexión a la base de datos.\n",
    "    - query: Consulta SQL a ejecutar.\n",
    "    - fetch_data: Booleano para indicar si se deben recuperar los datos de la consulta.\n",
    "\n",
    "    Returns:\n",
    "    - Resultados de la consulta si fetch_data es True. None en caso contrario.\n",
    "    \"\"\"\n",
    "    cursor = connection.cursor(buffered=True)  # Crear un cursor con buffering\n",
    "    try:\n",
    "        cursor.execute(query)  # Ejecutar la consulta\n",
    "\n",
    "        if fetch_data:\n",
    "            resultados = cursor.fetchall()  # Recuperar todos los resultados\n",
    "            return resultados\n",
    "        else:\n",
    "            connection.commit()  # Confirmar la transacción\n",
    "            print(\"Query hecha con éxito\")\n",
    "\n",
    "    except Error as err:\n",
    "        print(\"Error:\", err)  # Imprimir cualquier error ocurrido\n",
    "    finally:\n",
    "        cursor.close()  # Cerrar el cursor\n",
    "        if connection.unread_result:\n",
    "            connection.next_result()  # Limpiar cualquier resultado no leído\n",
    "        connection.commit()  # Asegurar que cualquier resultado pendiente sea limpiado"
   ]
  },
  {
   "cell_type": "code",
   "execution_count": 11,
   "metadata": {},
   "outputs": [
    {
     "name": "stdout",
     "output_type": "stream",
     "text": [
      "Conexión exitosa a la base de datos\n",
      "Número de registros en 'users_google': 0\n",
      "Promedio de calificaciones: None\n"
     ]
    }
   ],
   "source": [
    "# Verificar la conexión\n",
    "if connection:\n",
    "    print(\"Conexión exitosa a la base de datos\")\n",
    "\n",
    "    # Contar registros en `users_google`\n",
    "    query = \"SELECT COUNT(*) FROM users_google\"\n",
    "    resultado = execute_query(connection, query, fetch_data=True)\n",
    "\n",
    "    if resultado:\n",
    "        print(f\"Número de registros en 'users_google': {resultado[0][0]}\")\n",
    "\n",
    "    # Obtener promedio de calificaciones\n",
    "    query = \"SELECT AVG(raiting) FROM users_google\"\n",
    "    resultado = execute_query(connection, query, fetch_data=True)\n",
    "\n",
    "    if resultado:\n",
    "        print(f\"Promedio de calificaciones: {resultado[0][0]}\")"
   ]
  }
 ],
 "metadata": {
  "kernelspec": {
   "display_name": "Python 3",
   "language": "python",
   "name": "python3"
  },
  "language_info": {
   "codemirror_mode": {
    "name": "ipython",
    "version": 3
   },
   "file_extension": ".py",
   "mimetype": "text/x-python",
   "name": "python",
   "nbconvert_exporter": "python",
   "pygments_lexer": "ipython3",
   "version": "3.11.0"
  }
 },
 "nbformat": 4,
 "nbformat_minor": 2
}
