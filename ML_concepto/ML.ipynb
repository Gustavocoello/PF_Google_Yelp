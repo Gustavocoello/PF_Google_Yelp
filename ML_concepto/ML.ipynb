{
 "cells": [
  {
   "cell_type": "markdown",
   "metadata": {},
   "source": [
    "## **MACHINE LEARNING PRODUCTS (MLOps)**\n",
    "\n",
    "\n",
    "***En este cuaderno jupiter se encuentra un producto minimo viable, de nuestros proyecto - \"Sistema de Recomendacion del Mundial del 2026\" solo vamos  a utilizar solo la data de Google Maps***"
   ]
  },
  {
   "cell_type": "code",
   "execution_count": 3,
   "metadata": {},
   "outputs": [],
   "source": [
    "# Librerias\n",
    "import pymysql\n",
    "import mysql.connector\n",
    "from mysql.connector import Error\n",
    "from sqlalchemy import create_engine\n",
    "from dotenv import load_dotenv\n",
    "import pandas as pd \n",
    "import os "
   ]
  },
  {
   "cell_type": "code",
   "execution_count": 4,
   "metadata": {},
   "outputs": [],
   "source": [
    "# La data se encuentra en AWS vamos a conectar\n",
    "# Cargamos el archivo .env\n",
    "load_dotenv()\n",
    "\n",
    "# Acceder a las varibales de entorno \n",
    "password_bd = os.getenv(\"PASS_BD\")\n",
    "user_bd = os.getenv(\"USER_BD\")\n",
    "host_name = os.getenv(\"HOST_NAME\") \n",
    "\n",
    "# Conectamos la base de datos \n",
    "\n",
    "def BD_connection(host_name, user_name, user_pass, db_name):\n",
    "    connection = None\n",
    "    try:\n",
    "        connection = mysql.connector.connect(\n",
    "            host = host_name,\n",
    "            user = user_name,\n",
    "            passwd = user_pass,\n",
    "            database = db_name,\n",
    "            port = 3306             \n",
    "        )\n",
    "        print(\"MYSQL DATABASE connection succesful\")\n",
    "    except Error as err:\n",
    "        print(f\"Error: '{err}'\")\n",
    "    return connection"
   ]
  },
  {
   "cell_type": "code",
   "execution_count": 5,
   "metadata": {},
   "outputs": [
    {
     "name": "stdout",
     "output_type": "stream",
     "text": [
      "Error: '2003: Can't connect to MySQL server on 'mysql-db.cpmoyou2oi10.us-west-1.rds.amazonaws.com:3306' (10060 Se produjo un error durante el intento de conexión ya que la parte conectada no respondió adecuadamente tras un periodo de tiempo, o bien se produjo un error en la conexión establecida ya que el host conectado no ha podido responder)'\n"
     ]
    }
   ],
   "source": [
    "connection = BD_connection(host_name, user_bd, password_bd, \"Google\")"
   ]
  }
 ],
 "metadata": {
  "kernelspec": {
   "display_name": "Python 3",
   "language": "python",
   "name": "python3"
  },
  "language_info": {
   "codemirror_mode": {
    "name": "ipython",
    "version": 3
   },
   "file_extension": ".py",
   "mimetype": "text/x-python",
   "name": "python",
   "nbconvert_exporter": "python",
   "pygments_lexer": "ipython3",
   "version": "3.11.9"
  }
 },
 "nbformat": 4,
 "nbformat_minor": 2
}
