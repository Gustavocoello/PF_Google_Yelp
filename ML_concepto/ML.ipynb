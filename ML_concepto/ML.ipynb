{
 "cells": [
  {
   "cell_type": "markdown",
   "metadata": {},
   "source": [
    "## **MACHINE LEARNING PRODUCTS (MLOps)**\n",
    "\n",
    "\n",
    "***En este cuaderno jupiter se encuentra un producto minimo viable, de nuestros proyecto - \"Sistema de Recomendacion del Mundial del 2026\" solo vamos  a utilizar solo la data de Google Maps***"
   ]
  },
  {
   "cell_type": "code",
   "execution_count": 1,
   "metadata": {},
   "outputs": [],
   "source": [
    "# Librerias\n",
    "import pymysql\n",
    "import mysql.connector\n",
    "from mysql.connector import Error\n",
    "from sqlalchemy import create_engine\n",
    "from dotenv import load_dotenv\n",
    "import pandas as pd\n",
    "import os"
   ]
  },
  {
   "cell_type": "code",
   "execution_count": 2,
   "metadata": {},
   "outputs": [],
   "source": [
    "# La data se encuentra en AWS vamos a conectar\n",
    "# Cargamos el archivo .env\n",
    "load_dotenv()\n",
    "\n",
    "# Acceder a las variables entorno\n",
    "password_bd = os.getenv(\"PASS_BD\")\n",
    "user_bd = os.getenv(\"USER_BD\")\n",
    "host_name = os.getenv(\"HOST_NAME\")\n",
    "name_bd = os.getenv(\"NAME_BD\")\n",
    "\n",
    "# Conectamos la base de datos\n",
    "\n",
    "\n",
    "def BD_connection(host_name, user_bd, user_pass, name_bd):\n",
    "    connection = None\n",
    "    try:\n",
    "        connection = mysql.connector.connect(\n",
    "            host=host_name,\n",
    "            user=user_bd,\n",
    "            passwd=user_pass,\n",
    "            database=name_bd,\n",
    "            port=3306\n",
    "        )\n",
    "        print(\"MYSQL DATABASE connection succesful\")\n",
    "    except Error as err:\n",
    "        print(f\"Error: '{err}'\")\n",
    "    return connection"
   ]
  },
  {
   "cell_type": "code",
   "execution_count": 3,
   "metadata": {},
   "outputs": [
    {
     "name": "stdout",
     "output_type": "stream",
     "text": [
      "MYSQL DATABASE connection succesful\n"
     ]
    }
   ],
   "source": [
    "connection = BD_connection(host_name, user_bd, password_bd, name_bd)"
   ]
  },
  {
   "cell_type": "code",
   "execution_count": 4,
   "metadata": {},
   "outputs": [
    {
     "name": "stdout",
     "output_type": "stream",
     "text": [
      "Conectado a la base de datos: Yelp\n"
     ]
    }
   ],
   "source": [
    "# verifiquemos la conexion realizando una consulta simple\n",
    "if connection:\n",
    "    cursor = connection.cursor()\n",
    "    cursor.execute(\"SELECT DATABASE()\")\n",
    "    db = cursor.fetchone()\n",
    "    print(f\"Conectado a la base de datos: {db[0]}\")"
   ]
  },
  {
   "cell_type": "code",
   "execution_count": 5,
   "metadata": {},
   "outputs": [],
   "source": [
    "# Funcion para obtener las tablas disponibles\n",
    "def show_tables(connection):\n",
    "    cursor = connection.cursor()\n",
    "    cursor.execute(\"SHOW TABLES\")\n",
    "    tables = cursor.fetchall()\n",
    "    for table in tables:\n",
    "        print(table)"
   ]
  },
  {
   "cell_type": "code",
   "execution_count": 6,
   "metadata": {},
   "outputs": [
    {
     "name": "stdout",
     "output_type": "stream",
     "text": [
      "MYSQL DATABASE connection succesful\n",
      "('business',)\n",
      "('sites',)\n"
     ]
    }
   ],
   "source": [
    "# Corremos la query\n",
    "connection = BD_connection(host_name, user_bd, password_bd, name_bd)\n",
    "show_tables(connection)"
   ]
  },
  {
   "cell_type": "code",
   "execution_count": 7,
   "metadata": {},
   "outputs": [],
   "source": [
    "# Funcion para describir la estructura de una tabla\n",
    "def describe_table(connection, table_name):\n",
    "    cursor = connection.cursor()\n",
    "    query = f\"DESCRIBE {table_name}\"\n",
    "    cursor.execute(query)\n",
    "    columns = cursor.fetchall()\n",
    "    for column in columns:\n",
    "        print(column)"
   ]
  },
  {
   "cell_type": "code",
   "execution_count": 8,
   "metadata": {},
   "outputs": [
    {
     "name": "stdout",
     "output_type": "stream",
     "text": [
      "('business_id', b'text', 'YES', '', None, '')\n",
      "('name', b'text', 'YES', '', None, '')\n",
      "('address', b'text', 'YES', '', None, '')\n",
      "('city', b'text', 'YES', '', None, '')\n",
      "('state', b'text', 'YES', '', None, '')\n",
      "('postal_code', b'text', 'YES', '', None, '')\n",
      "('latitude', b'double', 'YES', '', None, '')\n",
      "('longitude', b'double', 'YES', '', None, '')\n",
      "('stars', b'double', 'YES', '', None, '')\n",
      "('review_count', b'bigint', 'YES', '', None, '')\n",
      "('categories', b'text', 'YES', '', None, '')\n",
      "('hours', b'text', 'YES', '', None, '')\n",
      "('RestaurantsDelivery', b'text', 'YES', '', None, '')\n",
      "('BusinessAcceptsCreditCards', b'text', 'YES', '', None, '')\n",
      "('BusinessParking', b'text', 'YES', '', None, '')\n",
      "('BikeParking', b'text', 'YES', '', None, '')\n",
      "('RestaurantsPriceRange2', b'text', 'YES', '', None, '')\n",
      "('RestaurantsTakeOut', b'text', 'YES', '', None, '')\n",
      "('ByAppointmentOnly', b'text', 'YES', '', None, '')\n",
      "('GoodForKids', b'text', 'YES', '', None, '')\n",
      "('DogsAllowed', b'text', 'YES', '', None, '')\n",
      "('Ambience', b'text', 'YES', '', None, '')\n",
      "('NoiseLevel', b'text', 'YES', '', None, '')\n"
     ]
    }
   ],
   "source": [
    "describe_table(connection, 'business')"
   ]
  },
  {
   "cell_type": "code",
   "execution_count": 9,
   "metadata": {},
   "outputs": [
    {
     "name": "stdout",
     "output_type": "stream",
     "text": [
      "('business_id', b'text', 'YES', '', None, '')\n",
      "('name', b'text', 'YES', '', None, '')\n",
      "('address', b'text', 'YES', '', None, '')\n",
      "('city', b'text', 'YES', '', None, '')\n",
      "('state', b'text', 'YES', '', None, '')\n",
      "('postal_code', b'text', 'YES', '', None, '')\n",
      "('latitude', b'double', 'YES', '', None, '')\n",
      "('longitude', b'double', 'YES', '', None, '')\n",
      "('stars', b'double', 'YES', '', None, '')\n",
      "('review_count', b'bigint', 'YES', '', None, '')\n",
      "('categories', b'text', 'YES', '', None, '')\n",
      "('hours', b'text', 'YES', '', None, '')\n",
      "('RestaurantsDelivery', b'text', 'YES', '', None, '')\n",
      "('BusinessAcceptsCreditCards', b'text', 'YES', '', None, '')\n",
      "('BusinessParking', b'text', 'YES', '', None, '')\n",
      "('BikeParking', b'text', 'YES', '', None, '')\n",
      "('RestaurantsPriceRange2', b'text', 'YES', '', None, '')\n",
      "('RestaurantsTakeOut', b'text', 'YES', '', None, '')\n",
      "('ByAppointmentOnly', b'text', 'YES', '', None, '')\n",
      "('GoodForKids', b'text', 'YES', '', None, '')\n",
      "('DogsAllowed', b'text', 'YES', '', None, '')\n",
      "('Ambience', b'text', 'YES', '', None, '')\n",
      "('NoiseLevel', b'text', 'YES', '', None, '')\n"
     ]
    }
   ],
   "source": [
    "describe_table(connection, 'sites')"
   ]
  },
  {
   "cell_type": "code",
   "execution_count": 10,
   "metadata": {},
   "outputs": [],
   "source": [
    "# Vamos a utilizar esta funcion para correr queries\n",
    "def execute_query(connection, query):\n",
    "    cursor = connection.cursor()\n",
    "    try:\n",
    "        cursor.execute(query)\n",
    "        connection.commit()\n",
    "        print(\"Query hecha con éxito\")\n",
    "    except Error as err:\n",
    "        print(\"Error\", err)"
   ]
  },
  {
   "cell_type": "code",
   "execution_count": 11,
   "metadata": {},
   "outputs": [],
   "source": [
    "def execute_query(connection, query, fetch_data=False):\n",
    "    \"\"\"\n",
    "    Ejecuta una consulta SQL en la base de datos conectada.\n",
    "\n",
    "    Args:\n",
    "    - connection: Conexión a la base de datos.\n",
    "    - query: Consulta SQL a ejecutar.\n",
    "    - fetch_data: Booleano para indicar si se deben recuperar los datos de la consulta.\n",
    "\n",
    "    Returns:\n",
    "    - Resultados de la consulta si fetch_data es True. None en caso contrario.\n",
    "    \"\"\"\n",
    "    cursor = connection.cursor(buffered=True)  # Crear un cursor con buffering\n",
    "    try:\n",
    "        cursor.execute(query)  # Ejecutar la consulta\n",
    "\n",
    "        if fetch_data:\n",
    "            resultados = cursor.fetchall()  # Recuperar todos los resultados\n",
    "            return resultados\n",
    "        else:\n",
    "            connection.commit()  # Confirmar la transacción\n",
    "            print(\"Query hecha con éxito\")\n",
    "\n",
    "    except Error as err:\n",
    "        print(\"Error:\", err)  # Imprimir cualquier error ocurrido\n",
    "    finally:\n",
    "        cursor.close()  # Cerrar el cursor\n",
    "        if connection.unread_result:\n",
    "            connection.next_result()  # Limpiar cualquier resultado no leído\n",
    "        connection.commit()  # Asegurar que cualquier resultado pendiente sea limpiado"
   ]
  },
  {
   "cell_type": "code",
   "execution_count": 12,
   "metadata": {},
   "outputs": [
    {
     "name": "stdout",
     "output_type": "stream",
     "text": [
      "Conexión exitosa a la base de datos\n",
      "Número de registros en 'business': 85028\n",
      "Promedio de calificaciones: 3.598102977842593\n"
     ]
    }
   ],
   "source": [
    "# Verificar la conexión tabla business\n",
    "if connection:\n",
    "    print(\"Conexión exitosa a la base de datos\")\n",
    "\n",
    "    # Contar registros en `business`\n",
    "    query = \"SELECT COUNT(*) FROM business\"\n",
    "    resultado = execute_query(connection, query, fetch_data=True)\n",
    "\n",
    "    if resultado:\n",
    "        print(f\"Número de registros en 'business': {resultado[0][0]}\")\n",
    "\n",
    "    # Obtener promedio de calificaciones\n",
    "    query = \"SELECT AVG(stars) FROM business\"\n",
    "    resultado = execute_query(connection, query, fetch_data=True)\n",
    "\n",
    "    if resultado:\n",
    "        print(f\"Promedio de calificaciones: {resultado[0][0]}\")"
   ]
  },
  {
   "cell_type": "code",
   "execution_count": 13,
   "metadata": {},
   "outputs": [
    {
     "name": "stdout",
     "output_type": "stream",
     "text": [
      "Conexión exitosa a la base de datos\n",
      "Número de registros en 'sites': 85028\n",
      "Promedio de calificaciones: 3.598102977842593\n"
     ]
    }
   ],
   "source": [
    "# Verificar la conexión tabla sites\n",
    "if connection:\n",
    "    print(\"Conexión exitosa a la base de datos\")\n",
    "\n",
    "    # Contar registros en `sites`\n",
    "    query = \"SELECT COUNT(*) FROM sites\"\n",
    "    resultado = execute_query(connection, query, fetch_data=True)\n",
    "\n",
    "    if resultado:\n",
    "        print(f\"Número de registros en 'sites': {resultado[0][0]}\")\n",
    "\n",
    "    # Obtener promedio de calificaciones\n",
    "    query = \"SELECT AVG(stars) FROM sites\"\n",
    "    resultado = execute_query(connection, query, fetch_data=True)\n",
    "\n",
    "    if resultado:\n",
    "        print(f\"Promedio de calificaciones: {resultado[0][0]}\")"
   ]
  },
  {
   "cell_type": "code",
   "execution_count": 14,
   "metadata": {},
   "outputs": [
    {
     "name": "stdout",
     "output_type": "stream",
     "text": [
      "MYSQL DATABASE connection succesful\n"
     ]
    }
   ],
   "source": [
    "# Ahora nos conectaremos a la BD de Google\n",
    "connection_2 = BD_connection(host_name, user_bd, password_bd, \"Google\")"
   ]
  },
  {
   "cell_type": "code",
   "execution_count": 15,
   "metadata": {},
   "outputs": [
    {
     "name": "stdout",
     "output_type": "stream",
     "text": [
      "MYSQL DATABASE connection succesful\n",
      "('sites',)\n",
      "('users_review',)\n"
     ]
    }
   ],
   "source": [
    "# Corremos la query\n",
    "connection_2 = BD_connection(host_name, user_bd, password_bd, \"Google\")\n",
    "show_tables(connection_2)"
   ]
  },
  {
   "cell_type": "code",
   "execution_count": 16,
   "metadata": {},
   "outputs": [],
   "source": [
    "# Crear el engine de SQLAlchemy usando la conexion MySQL\n",
    "def create_sqlalchemy_engine(host_name, user_bd, password_bd, name_bd):\n",
    "    url = f\"mysql+mysqlconnector://{user_bd}:{password_bd}@{host_name}/{name_bd}\"\n",
    "    return create_engine(url)"
   ]
  },
  {
   "cell_type": "code",
   "execution_count": 17,
   "metadata": {},
   "outputs": [],
   "source": [
    "# Crear el engine\n",
    "engine = create_sqlalchemy_engine(host_name, user_bd, password_bd, name_bd)"
   ]
  },
  {
   "cell_type": "code",
   "execution_count": 18,
   "metadata": {},
   "outputs": [],
   "source": [
    "# Crear el engine\n",
    "engine_2 = create_sqlalchemy_engine(host_name, user_bd, password_bd, \"Google\")"
   ]
  },
  {
   "cell_type": "code",
   "execution_count": 19,
   "metadata": {},
   "outputs": [],
   "source": [
    "# Consultar SQL para obtener la tabla businees & sites\n",
    "query_business = \"SELECT * FROM business\"\n",
    "query_sites = \"SELECT * FROM sites\"\n",
    "query_google = \"SELECT * FROM users_review\""
   ]
  },
  {
   "cell_type": "code",
   "execution_count": 20,
   "metadata": {},
   "outputs": [],
   "source": [
    "# Cargamos los datos en un Dataframe\n",
    "business = pd.read_sql(query_business, engine)\n",
    "sites = pd.read_sql(query_sites, engine)\n",
    "review = pd.read_sql(query_google, engine_2)"
   ]
  },
  {
   "cell_type": "code",
   "execution_count": 21,
   "metadata": {},
   "outputs": [],
   "source": [
    "# Punto de reinicio\n",
    "df_business = pd.DataFrame(business)\n",
    "df_sites = pd.DataFrame(sites)\n",
    "df_review = pd.DataFrame(review)"
   ]
  },
  {
   "cell_type": "code",
   "execution_count": 22,
   "metadata": {},
   "outputs": [
    {
     "data": {
      "text/html": [
       "<div>\n",
       "<style scoped>\n",
       "    .dataframe tbody tr th:only-of-type {\n",
       "        vertical-align: middle;\n",
       "    }\n",
       "\n",
       "    .dataframe tbody tr th {\n",
       "        vertical-align: top;\n",
       "    }\n",
       "\n",
       "    .dataframe thead th {\n",
       "        text-align: right;\n",
       "    }\n",
       "</style>\n",
       "<table border=\"1\" class=\"dataframe\">\n",
       "  <thead>\n",
       "    <tr style=\"text-align: right;\">\n",
       "      <th></th>\n",
       "      <th>business_id</th>\n",
       "      <th>name</th>\n",
       "      <th>address</th>\n",
       "      <th>city</th>\n",
       "      <th>state</th>\n",
       "      <th>postal_code</th>\n",
       "      <th>latitude</th>\n",
       "      <th>longitude</th>\n",
       "      <th>stars</th>\n",
       "      <th>review_count</th>\n",
       "      <th>...</th>\n",
       "      <th>BusinessAcceptsCreditCards</th>\n",
       "      <th>BusinessParking</th>\n",
       "      <th>BikeParking</th>\n",
       "      <th>RestaurantsPriceRange2</th>\n",
       "      <th>RestaurantsTakeOut</th>\n",
       "      <th>ByAppointmentOnly</th>\n",
       "      <th>GoodForKids</th>\n",
       "      <th>DogsAllowed</th>\n",
       "      <th>Ambience</th>\n",
       "      <th>NoiseLevel</th>\n",
       "    </tr>\n",
       "  </thead>\n",
       "  <tbody>\n",
       "    <tr>\n",
       "      <th>0</th>\n",
       "      <td>MTSW4McQd7CbVtyjqoe9mw</td>\n",
       "      <td>St Honore Pastries</td>\n",
       "      <td>935 Race St</td>\n",
       "      <td>Philadelphia</td>\n",
       "      <td>CA</td>\n",
       "      <td>19107</td>\n",
       "      <td>39.955505</td>\n",
       "      <td>-75.155564</td>\n",
       "      <td>4.0</td>\n",
       "      <td>80</td>\n",
       "      <td>...</td>\n",
       "      <td>False</td>\n",
       "      <td>['street']</td>\n",
       "      <td>True</td>\n",
       "      <td>1</td>\n",
       "      <td>True</td>\n",
       "      <td>False</td>\n",
       "      <td>None</td>\n",
       "      <td>None</td>\n",
       "      <td>None</td>\n",
       "      <td>None</td>\n",
       "    </tr>\n",
       "    <tr>\n",
       "      <th>1</th>\n",
       "      <td>mWMc6_wTdE0EUBKIGXDVfA</td>\n",
       "      <td>Perkiomen Valley Brewery</td>\n",
       "      <td>101 Walnut St</td>\n",
       "      <td>Green Lane</td>\n",
       "      <td>MO</td>\n",
       "      <td>18054</td>\n",
       "      <td>40.338183</td>\n",
       "      <td>-75.471659</td>\n",
       "      <td>4.5</td>\n",
       "      <td>13</td>\n",
       "      <td>...</td>\n",
       "      <td>True</td>\n",
       "      <td>['lot']</td>\n",
       "      <td>True</td>\n",
       "      <td>None</td>\n",
       "      <td>True</td>\n",
       "      <td>None</td>\n",
       "      <td>True</td>\n",
       "      <td>None</td>\n",
       "      <td>None</td>\n",
       "      <td>None</td>\n",
       "    </tr>\n",
       "    <tr>\n",
       "      <th>2</th>\n",
       "      <td>n_0UpQx1hsNbnPUSlodU8w</td>\n",
       "      <td>Famous Footwear</td>\n",
       "      <td>8522 Eager Road, Dierbergs Brentwood Point</td>\n",
       "      <td>Brentwood</td>\n",
       "      <td>PA</td>\n",
       "      <td>63144</td>\n",
       "      <td>38.627695</td>\n",
       "      <td>-90.340465</td>\n",
       "      <td>2.5</td>\n",
       "      <td>13</td>\n",
       "      <td>...</td>\n",
       "      <td>True</td>\n",
       "      <td>['lot']</td>\n",
       "      <td>True</td>\n",
       "      <td>2</td>\n",
       "      <td>None</td>\n",
       "      <td>None</td>\n",
       "      <td>None</td>\n",
       "      <td>None</td>\n",
       "      <td>None</td>\n",
       "      <td>None</td>\n",
       "    </tr>\n",
       "    <tr>\n",
       "      <th>3</th>\n",
       "      <td>qkRM_2X51Yqxk3btlwAQIg</td>\n",
       "      <td>Temple Beth-El</td>\n",
       "      <td>400 Pasadena Ave S</td>\n",
       "      <td>St. Petersburg</td>\n",
       "      <td>PA</td>\n",
       "      <td>33707</td>\n",
       "      <td>27.766590</td>\n",
       "      <td>-82.732983</td>\n",
       "      <td>3.5</td>\n",
       "      <td>5</td>\n",
       "      <td>...</td>\n",
       "      <td>None</td>\n",
       "      <td>None</td>\n",
       "      <td>None</td>\n",
       "      <td>None</td>\n",
       "      <td>None</td>\n",
       "      <td>None</td>\n",
       "      <td>None</td>\n",
       "      <td>None</td>\n",
       "      <td>None</td>\n",
       "      <td>None</td>\n",
       "    </tr>\n",
       "  </tbody>\n",
       "</table>\n",
       "<p>4 rows × 23 columns</p>\n",
       "</div>"
      ],
      "text/plain": [
       "              business_id                      name  \\\n",
       "0  MTSW4McQd7CbVtyjqoe9mw        St Honore Pastries   \n",
       "1  mWMc6_wTdE0EUBKIGXDVfA  Perkiomen Valley Brewery   \n",
       "2  n_0UpQx1hsNbnPUSlodU8w           Famous Footwear   \n",
       "3  qkRM_2X51Yqxk3btlwAQIg            Temple Beth-El   \n",
       "\n",
       "                                      address            city state  \\\n",
       "0                                 935 Race St    Philadelphia    CA   \n",
       "1                               101 Walnut St      Green Lane    MO   \n",
       "2  8522 Eager Road, Dierbergs Brentwood Point       Brentwood    PA   \n",
       "3                          400 Pasadena Ave S  St. Petersburg    PA   \n",
       "\n",
       "  postal_code   latitude  longitude  stars  review_count  ...  \\\n",
       "0       19107  39.955505 -75.155564    4.0            80  ...   \n",
       "1       18054  40.338183 -75.471659    4.5            13  ...   \n",
       "2       63144  38.627695 -90.340465    2.5            13  ...   \n",
       "3       33707  27.766590 -82.732983    3.5             5  ...   \n",
       "\n",
       "  BusinessAcceptsCreditCards BusinessParking BikeParking  \\\n",
       "0                      False      ['street']        True   \n",
       "1                       True         ['lot']        True   \n",
       "2                       True         ['lot']        True   \n",
       "3                       None            None        None   \n",
       "\n",
       "  RestaurantsPriceRange2 RestaurantsTakeOut ByAppointmentOnly GoodForKids  \\\n",
       "0                      1               True             False        None   \n",
       "1                   None               True              None        True   \n",
       "2                      2               None              None        None   \n",
       "3                   None               None              None        None   \n",
       "\n",
       "  DogsAllowed Ambience NoiseLevel  \n",
       "0        None     None       None  \n",
       "1        None     None       None  \n",
       "2        None     None       None  \n",
       "3        None     None       None  \n",
       "\n",
       "[4 rows x 23 columns]"
      ]
     },
     "execution_count": 22,
     "metadata": {},
     "output_type": "execute_result"
    }
   ],
   "source": [
    "df_business.head(4)"
   ]
  },
  {
   "cell_type": "code",
   "execution_count": 23,
   "metadata": {},
   "outputs": [
    {
     "data": {
      "text/html": [
       "<div>\n",
       "<style scoped>\n",
       "    .dataframe tbody tr th:only-of-type {\n",
       "        vertical-align: middle;\n",
       "    }\n",
       "\n",
       "    .dataframe tbody tr th {\n",
       "        vertical-align: top;\n",
       "    }\n",
       "\n",
       "    .dataframe thead th {\n",
       "        text-align: right;\n",
       "    }\n",
       "</style>\n",
       "<table border=\"1\" class=\"dataframe\">\n",
       "  <thead>\n",
       "    <tr style=\"text-align: right;\">\n",
       "      <th></th>\n",
       "      <th>business_id</th>\n",
       "      <th>name</th>\n",
       "      <th>address</th>\n",
       "      <th>city</th>\n",
       "      <th>state</th>\n",
       "      <th>postal_code</th>\n",
       "      <th>latitude</th>\n",
       "      <th>longitude</th>\n",
       "      <th>stars</th>\n",
       "      <th>review_count</th>\n",
       "      <th>...</th>\n",
       "      <th>BusinessAcceptsCreditCards</th>\n",
       "      <th>BusinessParking</th>\n",
       "      <th>BikeParking</th>\n",
       "      <th>RestaurantsPriceRange2</th>\n",
       "      <th>RestaurantsTakeOut</th>\n",
       "      <th>ByAppointmentOnly</th>\n",
       "      <th>GoodForKids</th>\n",
       "      <th>DogsAllowed</th>\n",
       "      <th>Ambience</th>\n",
       "      <th>NoiseLevel</th>\n",
       "    </tr>\n",
       "  </thead>\n",
       "  <tbody>\n",
       "    <tr>\n",
       "      <th>0</th>\n",
       "      <td>MTSW4McQd7CbVtyjqoe9mw</td>\n",
       "      <td>St Honore Pastries</td>\n",
       "      <td>935 Race St</td>\n",
       "      <td>Philadelphia</td>\n",
       "      <td>CA</td>\n",
       "      <td>19107</td>\n",
       "      <td>39.955505</td>\n",
       "      <td>-75.155564</td>\n",
       "      <td>4.0</td>\n",
       "      <td>80</td>\n",
       "      <td>...</td>\n",
       "      <td>False</td>\n",
       "      <td>['street']</td>\n",
       "      <td>True</td>\n",
       "      <td>1</td>\n",
       "      <td>True</td>\n",
       "      <td>False</td>\n",
       "      <td>None</td>\n",
       "      <td>None</td>\n",
       "      <td>None</td>\n",
       "      <td>None</td>\n",
       "    </tr>\n",
       "    <tr>\n",
       "      <th>1</th>\n",
       "      <td>mWMc6_wTdE0EUBKIGXDVfA</td>\n",
       "      <td>Perkiomen Valley Brewery</td>\n",
       "      <td>101 Walnut St</td>\n",
       "      <td>Green Lane</td>\n",
       "      <td>MO</td>\n",
       "      <td>18054</td>\n",
       "      <td>40.338183</td>\n",
       "      <td>-75.471659</td>\n",
       "      <td>4.5</td>\n",
       "      <td>13</td>\n",
       "      <td>...</td>\n",
       "      <td>True</td>\n",
       "      <td>['lot']</td>\n",
       "      <td>True</td>\n",
       "      <td>None</td>\n",
       "      <td>True</td>\n",
       "      <td>None</td>\n",
       "      <td>True</td>\n",
       "      <td>None</td>\n",
       "      <td>None</td>\n",
       "      <td>None</td>\n",
       "    </tr>\n",
       "    <tr>\n",
       "      <th>2</th>\n",
       "      <td>n_0UpQx1hsNbnPUSlodU8w</td>\n",
       "      <td>Famous Footwear</td>\n",
       "      <td>8522 Eager Road, Dierbergs Brentwood Point</td>\n",
       "      <td>Brentwood</td>\n",
       "      <td>PA</td>\n",
       "      <td>63144</td>\n",
       "      <td>38.627695</td>\n",
       "      <td>-90.340465</td>\n",
       "      <td>2.5</td>\n",
       "      <td>13</td>\n",
       "      <td>...</td>\n",
       "      <td>True</td>\n",
       "      <td>['lot']</td>\n",
       "      <td>True</td>\n",
       "      <td>2</td>\n",
       "      <td>None</td>\n",
       "      <td>None</td>\n",
       "      <td>None</td>\n",
       "      <td>None</td>\n",
       "      <td>None</td>\n",
       "      <td>None</td>\n",
       "    </tr>\n",
       "    <tr>\n",
       "      <th>3</th>\n",
       "      <td>qkRM_2X51Yqxk3btlwAQIg</td>\n",
       "      <td>Temple Beth-El</td>\n",
       "      <td>400 Pasadena Ave S</td>\n",
       "      <td>St. Petersburg</td>\n",
       "      <td>PA</td>\n",
       "      <td>33707</td>\n",
       "      <td>27.766590</td>\n",
       "      <td>-82.732983</td>\n",
       "      <td>3.5</td>\n",
       "      <td>5</td>\n",
       "      <td>...</td>\n",
       "      <td>None</td>\n",
       "      <td>None</td>\n",
       "      <td>None</td>\n",
       "      <td>None</td>\n",
       "      <td>None</td>\n",
       "      <td>None</td>\n",
       "      <td>None</td>\n",
       "      <td>None</td>\n",
       "      <td>None</td>\n",
       "      <td>None</td>\n",
       "    </tr>\n",
       "  </tbody>\n",
       "</table>\n",
       "<p>4 rows × 23 columns</p>\n",
       "</div>"
      ],
      "text/plain": [
       "              business_id                      name  \\\n",
       "0  MTSW4McQd7CbVtyjqoe9mw        St Honore Pastries   \n",
       "1  mWMc6_wTdE0EUBKIGXDVfA  Perkiomen Valley Brewery   \n",
       "2  n_0UpQx1hsNbnPUSlodU8w           Famous Footwear   \n",
       "3  qkRM_2X51Yqxk3btlwAQIg            Temple Beth-El   \n",
       "\n",
       "                                      address            city state  \\\n",
       "0                                 935 Race St    Philadelphia    CA   \n",
       "1                               101 Walnut St      Green Lane    MO   \n",
       "2  8522 Eager Road, Dierbergs Brentwood Point       Brentwood    PA   \n",
       "3                          400 Pasadena Ave S  St. Petersburg    PA   \n",
       "\n",
       "  postal_code   latitude  longitude  stars  review_count  ...  \\\n",
       "0       19107  39.955505 -75.155564    4.0            80  ...   \n",
       "1       18054  40.338183 -75.471659    4.5            13  ...   \n",
       "2       63144  38.627695 -90.340465    2.5            13  ...   \n",
       "3       33707  27.766590 -82.732983    3.5             5  ...   \n",
       "\n",
       "  BusinessAcceptsCreditCards BusinessParking BikeParking  \\\n",
       "0                      False      ['street']        True   \n",
       "1                       True         ['lot']        True   \n",
       "2                       True         ['lot']        True   \n",
       "3                       None            None        None   \n",
       "\n",
       "  RestaurantsPriceRange2 RestaurantsTakeOut ByAppointmentOnly GoodForKids  \\\n",
       "0                      1               True             False        None   \n",
       "1                   None               True              None        True   \n",
       "2                      2               None              None        None   \n",
       "3                   None               None              None        None   \n",
       "\n",
       "  DogsAllowed Ambience NoiseLevel  \n",
       "0        None     None       None  \n",
       "1        None     None       None  \n",
       "2        None     None       None  \n",
       "3        None     None       None  \n",
       "\n",
       "[4 rows x 23 columns]"
      ]
     },
     "execution_count": 23,
     "metadata": {},
     "output_type": "execute_result"
    }
   ],
   "source": [
    "df_sites.head(4)"
   ]
  },
  {
   "cell_type": "code",
   "execution_count": 24,
   "metadata": {},
   "outputs": [
    {
     "data": {
      "text/html": [
       "<div>\n",
       "<style scoped>\n",
       "    .dataframe tbody tr th:only-of-type {\n",
       "        vertical-align: middle;\n",
       "    }\n",
       "\n",
       "    .dataframe tbody tr th {\n",
       "        vertical-align: top;\n",
       "    }\n",
       "\n",
       "    .dataframe thead th {\n",
       "        text-align: right;\n",
       "    }\n",
       "</style>\n",
       "<table border=\"1\" class=\"dataframe\">\n",
       "  <thead>\n",
       "    <tr style=\"text-align: right;\">\n",
       "      <th></th>\n",
       "      <th>id_user</th>\n",
       "      <th>name</th>\n",
       "      <th>time_comment</th>\n",
       "      <th>text_comment</th>\n",
       "      <th>rating</th>\n",
       "      <th>time_resp</th>\n",
       "      <th>text_resp</th>\n",
       "      <th>gmap_id</th>\n",
       "      <th>state</th>\n",
       "    </tr>\n",
       "  </thead>\n",
       "  <tbody>\n",
       "    <tr>\n",
       "      <th>0</th>\n",
       "      <td>1.043885e+20</td>\n",
       "      <td>Evan Russo</td>\n",
       "      <td>08/11/2020 18:00</td>\n",
       "      <td>Guy at the front door was rude beyond belief. ...</td>\n",
       "      <td>1</td>\n",
       "      <td>01/01/1900 00:00:00</td>\n",
       "      <td>No response from the establishment</td>\n",
       "      <td>0x89e30b59869f14e5:0x76ca09855156779b</td>\n",
       "      <td>Massachusetts</td>\n",
       "    </tr>\n",
       "    <tr>\n",
       "      <th>1</th>\n",
       "      <td>1.061707e+20</td>\n",
       "      <td>Anthony Renzulli</td>\n",
       "      <td>27/08/2020 18:53</td>\n",
       "      <td>Great comics great toy store downstairs</td>\n",
       "      <td>5</td>\n",
       "      <td>01/01/1900 00:00:00</td>\n",
       "      <td>No response from the establishment</td>\n",
       "      <td>0x89e30b59869f14e5:0x76ca09855156779b</td>\n",
       "      <td>Massachusetts</td>\n",
       "    </tr>\n",
       "    <tr>\n",
       "      <th>2</th>\n",
       "      <td>1.042075e+20</td>\n",
       "      <td>Nils Heinonen</td>\n",
       "      <td>24/06/2020 16:51</td>\n",
       "      <td>Awesome store with a great staff and an incred...</td>\n",
       "      <td>5</td>\n",
       "      <td>01/01/1900 00:00:00</td>\n",
       "      <td>No response from the establishment</td>\n",
       "      <td>0x89e30b59869f14e5:0x76ca09855156779b</td>\n",
       "      <td>Massachusetts</td>\n",
       "    </tr>\n",
       "    <tr>\n",
       "      <th>3</th>\n",
       "      <td>1.156954e+20</td>\n",
       "      <td>Dude Bro</td>\n",
       "      <td>18/03/2020 14:12</td>\n",
       "      <td>Excellent choices broad variety and best price...</td>\n",
       "      <td>5</td>\n",
       "      <td>01/01/1900 00:00:00</td>\n",
       "      <td>No response from the establishment</td>\n",
       "      <td>0x89e30b59869f14e5:0x76ca09855156779b</td>\n",
       "      <td>Massachusetts</td>\n",
       "    </tr>\n",
       "  </tbody>\n",
       "</table>\n",
       "</div>"
      ],
      "text/plain": [
       "        id_user              name      time_comment  \\\n",
       "0  1.043885e+20        Evan Russo  08/11/2020 18:00   \n",
       "1  1.061707e+20  Anthony Renzulli  27/08/2020 18:53   \n",
       "2  1.042075e+20     Nils Heinonen  24/06/2020 16:51   \n",
       "3  1.156954e+20          Dude Bro  18/03/2020 14:12   \n",
       "\n",
       "                                        text_comment  rating  \\\n",
       "0  Guy at the front door was rude beyond belief. ...       1   \n",
       "1            Great comics great toy store downstairs       5   \n",
       "2  Awesome store with a great staff and an incred...       5   \n",
       "3  Excellent choices broad variety and best price...       5   \n",
       "\n",
       "             time_resp                           text_resp  \\\n",
       "0  01/01/1900 00:00:00  No response from the establishment   \n",
       "1  01/01/1900 00:00:00  No response from the establishment   \n",
       "2  01/01/1900 00:00:00  No response from the establishment   \n",
       "3  01/01/1900 00:00:00  No response from the establishment   \n",
       "\n",
       "                                 gmap_id          state  \n",
       "0  0x89e30b59869f14e5:0x76ca09855156779b  Massachusetts  \n",
       "1  0x89e30b59869f14e5:0x76ca09855156779b  Massachusetts  \n",
       "2  0x89e30b59869f14e5:0x76ca09855156779b  Massachusetts  \n",
       "3  0x89e30b59869f14e5:0x76ca09855156779b  Massachusetts  "
      ]
     },
     "execution_count": 24,
     "metadata": {},
     "output_type": "execute_result"
    }
   ],
   "source": [
    "df_review.head(4)"
   ]
  },
  {
   "cell_type": "code",
   "execution_count": 25,
   "metadata": {},
   "outputs": [
    {
     "name": "stdout",
     "output_type": "stream",
     "text": [
      "<class 'pandas.core.frame.DataFrame'>\n",
      "RangeIndex: 8200000 entries, 0 to 8199999\n",
      "Data columns (total 9 columns):\n",
      " #   Column        Dtype  \n",
      "---  ------        -----  \n",
      " 0   id_user       float64\n",
      " 1   name          object \n",
      " 2   time_comment  object \n",
      " 3   text_comment  object \n",
      " 4   rating        int64  \n",
      " 5   time_resp     object \n",
      " 6   text_resp     object \n",
      " 7   gmap_id       object \n",
      " 8   state         object \n",
      "dtypes: float64(1), int64(1), object(7)\n",
      "memory usage: 563.0+ MB\n"
     ]
    }
   ],
   "source": [
    "df_review.info()"
   ]
  },
  {
   "cell_type": "markdown",
   "metadata": {},
   "source": [
    "### **Sistema de Recomendacion documentacion**\n",
    "\n",
    "#### ***Aqui se van a documnetar los metodos utilizados***:\n"
   ]
  },
  {
   "cell_type": "code",
   "execution_count": null,
   "metadata": {},
   "outputs": [],
   "source": []
  }
 ],
 "metadata": {
  "kernelspec": {
   "display_name": "Python 3",
   "language": "python",
   "name": "python3"
  },
  "language_info": {
   "codemirror_mode": {
    "name": "ipython",
    "version": 3
   },
   "file_extension": ".py",
   "mimetype": "text/x-python",
   "name": "python",
   "nbconvert_exporter": "python",
   "pygments_lexer": "ipython3",
   "version": "3.11.0"
  }
 },
 "nbformat": 4,
 "nbformat_minor": 2
}
