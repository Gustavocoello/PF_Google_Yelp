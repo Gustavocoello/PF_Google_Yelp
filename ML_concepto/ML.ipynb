{
 "cells": [
  {
   "cell_type": "markdown",
   "metadata": {},
   "source": [
    "## **MACHINE LEARNING PRODUCTS (MLOps)**\n",
    "\n",
    "\n",
    "***En este cuaderno jupiter se encuentra un producto minimo viable, de nuestros proyecto - \"Sistema de Recomendacion del Mundial del 2026\" solo vamos  a utilizar solo la data de Google Maps***"
   ]
  },
  {
   "cell_type": "code",
   "execution_count": 1,
   "metadata": {},
   "outputs": [],
   "source": [
    "# Librerias\n",
    "import pymysql\n",
    "import mysql.connector\n",
    "from mysql.connector import Error\n",
    "from sqlalchemy import create_engine\n",
    "from dotenv import load_dotenv\n",
    "import pandas as pd\n",
    "import os"
   ]
  },
  {
   "cell_type": "code",
   "execution_count": 2,
   "metadata": {},
   "outputs": [],
   "source": [
    "# La data se encuentra en AWS vamos a conectar\n",
    "# Cargamos el archivo .env\n",
    "load_dotenv()\n",
    "\n",
    "# Acceder a las variables entorno\n",
    "password_bd = os.getenv(\"PASS_BD\")\n",
    "user_bd = os.getenv(\"USER_BD\")\n",
    "host_name = os.getenv(\"HOST_NAME\")\n",
    "name_bd = os.getenv(\"NAME_BD\")\n",
    "\n",
    "# Conectamos la base de datos\n",
    "\n",
    "\n",
    "def BD_connection(host_name, user_bd, user_pass, name_bd):\n",
    "    connection = None\n",
    "    try:\n",
    "        connection = mysql.connector.connect(\n",
    "            host=host_name,\n",
    "            user=user_bd,\n",
    "            passwd=user_pass,\n",
    "            database=name_bd,\n",
    "            port=3306\n",
    "        )\n",
    "        print(\"MYSQL DATABASE connection succesful\")\n",
    "    except Error as err:\n",
    "        print(f\"Error: '{err}'\")\n",
    "    return connection"
   ]
  },
  {
   "cell_type": "code",
   "execution_count": 3,
   "metadata": {},
   "outputs": [
    {
     "name": "stdout",
     "output_type": "stream",
     "text": [
      "Error: '2003 (HY000): Can't connect to MySQL server on 'mysql-db.cpmoyou2oi10.us-west-1.rds.amazonaws.com:3306' (10060)'\n"
     ]
    }
   ],
   "source": [
    "connection = BD_connection(host_name, user_bd, password_bd, name_bd)"
   ]
  }
 ],
 "metadata": {
  "kernelspec": {
   "display_name": "Python 3",
   "language": "python",
   "name": "python3"
  },
  "language_info": {
   "codemirror_mode": {
    "name": "ipython",
    "version": 3
   },
   "file_extension": ".py",
   "mimetype": "text/x-python",
   "name": "python",
   "nbconvert_exporter": "python",
   "pygments_lexer": "ipython3",
   "version": "3.11.0"
  }
 },
 "nbformat": 4,
 "nbformat_minor": 2
}
