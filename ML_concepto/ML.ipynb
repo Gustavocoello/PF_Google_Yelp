{
 "cells": [
  {
   "cell_type": "markdown",
   "metadata": {},
   "source": [
    "## **MACHINE LEARNING PRODUCTS (MLOps)**\n",
    "\n",
    "\n",
    "***En este cuaderno jupiter se encuentra un producto minimo viable, de nuestros proyecto - \"Sistema de Recomendacion del Mundial del 2026\" solo vamos  a utilizar solo la data de Google Maps***"
   ]
  },
  {
   "cell_type": "code",
   "execution_count": 1,
   "metadata": {},
   "outputs": [],
   "source": [
    "# Librerias\n",
    "import pymysql\n",
    "import mysql.connector\n",
    "from mysql.connector import Error\n",
    "from sqlalchemy import create_engine\n",
    "from dotenv import load_dotenv\n",
    "import pandas as pd\n",
    "import os"
   ]
  },
  {
   "cell_type": "code",
   "execution_count": 3,
   "metadata": {},
   "outputs": [],
   "source": [
    "# La data se encuentra en AWS vamos a conectar\n",
    "# Cargamos el archivo .env\n",
    "load_dotenv()\n",
    "\n",
    "# Acceder a las variables entorno\n",
    "password_bd = os.getenv(\"PASS_BD\")\n",
    "user_bd = os.getenv(\"USER_BD\")\n",
    "host_name = os.getenv(\"HOST_NAME\")\n",
    "name_bd = os.getenv(\"NAME_BD\")\n",
    "\n",
    "# Conectamos la base de datos\n",
    "\n",
    "\n",
    "def BD_connection(host_name, user_bd, user_pass, name_bd):\n",
    "    connection = None\n",
    "    try:\n",
    "        connection = mysql.connector.connect(\n",
    "            host=host_name,\n",
    "            user=user_bd,\n",
    "            passwd=user_pass,\n",
    "            database=name_bd,\n",
    "            port=3306\n",
    "        )\n",
    "        print(\"MYSQL DATABASE connection succesful\")\n",
    "    except Error as err:\n",
    "        print(f\"Error: '{err}'\")\n",
    "    return connection"
   ]
  },
  {
   "cell_type": "code",
   "execution_count": 29,
   "metadata": {},
   "outputs": [
    {
     "name": "stdout",
     "output_type": "stream",
     "text": [
      "MYSQL DATABASE connection succesful\n"
     ]
    }
   ],
   "source": [
    "connection = BD_connection(host_name, user_bd, password_bd, name_bd)"
   ]
  },
  {
   "cell_type": "code",
   "execution_count": 12,
   "metadata": {},
   "outputs": [
    {
     "name": "stdout",
     "output_type": "stream",
     "text": [
      "Conectado a la base de datos: Google\n"
     ]
    }
   ],
   "source": [
    "# verifiquemos la conexion realizando una consulta simple\n",
    "if connection:\n",
    "    cursor = connection.cursor()\n",
    "    cursor.execute(\"SELECT DATABASE()\")\n",
    "    db = cursor.fetchone()\n",
    "    print(f\"Conectado a la base de datos: {db[0]}\")"
   ]
  },
  {
   "cell_type": "code",
   "execution_count": 13,
   "metadata": {},
   "outputs": [],
   "source": [
    "# Funcion para obtener las tablas disponibles\n",
    "def show_tables(connection):\n",
    "    cursor = connection.cursor()\n",
    "    cursor.execute(\"SHOW TABLES\")\n",
    "    tables = cursor.fetchall()\n",
    "    for table in tables:\n",
    "        print(table)"
   ]
  },
  {
   "cell_type": "code",
   "execution_count": 14,
   "metadata": {},
   "outputs": [
    {
     "name": "stdout",
     "output_type": "stream",
     "text": [
      "MYSQL DATABASE connection succesful\n",
      "('sites',)\n",
      "('users_google',)\n"
     ]
    }
   ],
   "source": [
    "# Corremos la query\n",
    "connection = BD_connection(host_name, user_bd, password_bd, name_bd)\n",
    "show_tables(connection)"
   ]
  },
  {
   "cell_type": "code",
   "execution_count": 20,
   "metadata": {},
   "outputs": [],
   "source": [
    "# Funcion para describir la estructura de una tabla \n",
    "def describe_table(connection, table_name):\n",
    "    cursor = connection.cursor()\n",
    "    query = f\"DESCRIBE {table_name}\"\n",
    "    cursor.execute(query)\n",
    "    columns = cursor.fetchall()\n",
    "    for column in columns:\n",
    "        print(column)"
   ]
  },
  {
   "cell_type": "code",
   "execution_count": 21,
   "metadata": {},
   "outputs": [
    {
     "name": "stdout",
     "output_type": "stream",
     "text": [
      "('id_user', 'varchar(100)', 'NO', 'PRI', None, '')\n",
      "('name', 'varchar(50)', 'NO', '', None, '')\n",
      "('time_comment', 'date', 'YES', '', None, '')\n",
      "('text_comment', 'varchar(1000)', 'YES', '', None, '')\n",
      "('raiting', 'int', 'YES', '', None, '')\n",
      "('pics', 'varchar(2048)', 'YES', '', None, '')\n",
      "('time_resp', 'date', 'YES', '', None, '')\n",
      "('text_resp', 'varchar(1000)', 'YES', '', None, '')\n",
      "('gmap_id', 'varchar(100)', 'YES', 'MUL', None, '')\n",
      "('state', 'varchar(30)', 'YES', '', None, '')\n"
     ]
    }
   ],
   "source": [
    "describe_table(connection, 'users_google')"
   ]
  },
  {
   "cell_type": "code",
   "execution_count": 30,
   "metadata": {},
   "outputs": [],
   "source": [
    "# Vamos a utilizar esta funcion para correr queries\n",
    "def execute_query(connection, query):\n",
    "    cursor = connection.cursor()\n",
    "    try: \n",
    "        cursor.execute(query)\n",
    "        connection.commit()\n",
    "        print(\"Query hecha con éxito\")\n",
    "    except Error as err:\n",
    "        print(\"Error\", err)"
   ]
  },
  {
   "cell_type": "code",
   "execution_count": 31,
   "metadata": {},
   "outputs": [
    {
     "name": "stdout",
     "output_type": "stream",
     "text": [
      "Error Unread result found\n"
     ]
    }
   ],
   "source": [
    "execute_query(connection, \"SELECT * FROM users_google\")"
   ]
  }
 ],
 "metadata": {
  "kernelspec": {
   "display_name": "Python 3",
   "language": "python",
   "name": "python3"
  },
  "language_info": {
   "codemirror_mode": {
    "name": "ipython",
    "version": 3
   },
   "file_extension": ".py",
   "mimetype": "text/x-python",
   "name": "python",
   "nbconvert_exporter": "python",
   "pygments_lexer": "ipython3",
   "version": "3.11.9"
  }
 },
 "nbformat": 4,
 "nbformat_minor": 2
}
