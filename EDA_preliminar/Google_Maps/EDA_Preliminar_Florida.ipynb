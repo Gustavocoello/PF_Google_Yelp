{
 "cells": [
  {
   "cell_type": "code",
   "execution_count": 1,
   "metadata": {},
   "outputs": [],
   "source": [
    "import pandas as pd\n",
    "import matplotlib.pyplot as plt\n",
    "import warnings\n",
    "warnings.filterwarnings('ignore')"
   ]
  },
  {
   "cell_type": "code",
   "execution_count": 2,
   "metadata": {},
   "outputs": [],
   "source": [
    "# Cargar el archivo JSON forzando 'user_id' a ser de tipo str\n",
    "file_path = 'review_Florida.json'\n",
    "df_florida = pd.read_json(file_path, dtype={'user_id': str})"
   ]
  },
  {
   "cell_type": "code",
   "execution_count": 3,
   "metadata": {},
   "outputs": [
    {
     "data": {
      "text/html": [
       "<div>\n",
       "<style scoped>\n",
       "    .dataframe tbody tr th:only-of-type {\n",
       "        vertical-align: middle;\n",
       "    }\n",
       "\n",
       "    .dataframe tbody tr th {\n",
       "        vertical-align: top;\n",
       "    }\n",
       "\n",
       "    .dataframe thead th {\n",
       "        text-align: right;\n",
       "    }\n",
       "</style>\n",
       "<table border=\"1\" class=\"dataframe\">\n",
       "  <thead>\n",
       "    <tr style=\"text-align: right;\">\n",
       "      <th></th>\n",
       "      <th>user_id</th>\n",
       "      <th>name</th>\n",
       "      <th>time</th>\n",
       "      <th>rating</th>\n",
       "      <th>text</th>\n",
       "      <th>pics</th>\n",
       "      <th>resp</th>\n",
       "      <th>gmap_id</th>\n",
       "    </tr>\n",
       "  </thead>\n",
       "  <tbody>\n",
       "    <tr>\n",
       "      <th>0</th>\n",
       "      <td>101471856155148729010</td>\n",
       "      <td>Julie A. Gerber</td>\n",
       "      <td>1628003250740</td>\n",
       "      <td>1</td>\n",
       "      <td>Update: Their “reply” to my review amounted to...</td>\n",
       "      <td>None</td>\n",
       "      <td>{'time': 1627042799532, 'text': 'Thank you for...</td>\n",
       "      <td>0x8893863ea87bd5dd:0x9383ebf973e74abb</td>\n",
       "    </tr>\n",
       "    <tr>\n",
       "      <th>1</th>\n",
       "      <td>115477234789038326051</td>\n",
       "      <td>Martin Sheffield</td>\n",
       "      <td>1595031217005</td>\n",
       "      <td>5</td>\n",
       "      <td>He's a knowledgeable doctor but the way he run...</td>\n",
       "      <td>None</td>\n",
       "      <td>{'time': 1582464056733, 'text': 'Thank you for...</td>\n",
       "      <td>0x8893863ea87bd5dd:0x9383ebf973e74abb</td>\n",
       "    </tr>\n",
       "    <tr>\n",
       "      <th>2</th>\n",
       "      <td>101805010244892834381</td>\n",
       "      <td>Brian Truett</td>\n",
       "      <td>1522924253567</td>\n",
       "      <td>5</td>\n",
       "      <td>Best doctor I've ever had, I never wait to be ...</td>\n",
       "      <td>None</td>\n",
       "      <td>None</td>\n",
       "      <td>0x8893863ea87bd5dd:0x9383ebf973e74abb</td>\n",
       "    </tr>\n",
       "    <tr>\n",
       "      <th>3</th>\n",
       "      <td>106344422881493743981</td>\n",
       "      <td>Tina Sun</td>\n",
       "      <td>1467907819586</td>\n",
       "      <td>1</td>\n",
       "      <td>I was told he is a good doctor. I was trying t...</td>\n",
       "      <td>None</td>\n",
       "      <td>None</td>\n",
       "      <td>0x8893863ea87bd5dd:0x9383ebf973e74abb</td>\n",
       "    </tr>\n",
       "    <tr>\n",
       "      <th>4</th>\n",
       "      <td>100875113069561776529</td>\n",
       "      <td>James Haynes</td>\n",
       "      <td>1480683415081</td>\n",
       "      <td>5</td>\n",
       "      <td>Takes the time to actually get to know his pat...</td>\n",
       "      <td>None</td>\n",
       "      <td>None</td>\n",
       "      <td>0x8893863ea87bd5dd:0x9383ebf973e74abb</td>\n",
       "    </tr>\n",
       "  </tbody>\n",
       "</table>\n",
       "</div>"
      ],
      "text/plain": [
       "                 user_id              name           time  rating  \\\n",
       "0  101471856155148729010   Julie A. Gerber  1628003250740       1   \n",
       "1  115477234789038326051  Martin Sheffield  1595031217005       5   \n",
       "2  101805010244892834381      Brian Truett  1522924253567       5   \n",
       "3  106344422881493743981          Tina Sun  1467907819586       1   \n",
       "4  100875113069561776529      James Haynes  1480683415081       5   \n",
       "\n",
       "                                                text  pics  \\\n",
       "0  Update: Their “reply” to my review amounted to...  None   \n",
       "1  He's a knowledgeable doctor but the way he run...  None   \n",
       "2  Best doctor I've ever had, I never wait to be ...  None   \n",
       "3  I was told he is a good doctor. I was trying t...  None   \n",
       "4  Takes the time to actually get to know his pat...  None   \n",
       "\n",
       "                                                resp  \\\n",
       "0  {'time': 1627042799532, 'text': 'Thank you for...   \n",
       "1  {'time': 1582464056733, 'text': 'Thank you for...   \n",
       "2                                               None   \n",
       "3                                               None   \n",
       "4                                               None   \n",
       "\n",
       "                                 gmap_id  \n",
       "0  0x8893863ea87bd5dd:0x9383ebf973e74abb  \n",
       "1  0x8893863ea87bd5dd:0x9383ebf973e74abb  \n",
       "2  0x8893863ea87bd5dd:0x9383ebf973e74abb  \n",
       "3  0x8893863ea87bd5dd:0x9383ebf973e74abb  \n",
       "4  0x8893863ea87bd5dd:0x9383ebf973e74abb  "
      ]
     },
     "execution_count": 3,
     "metadata": {},
     "output_type": "execute_result"
    }
   ],
   "source": [
    "# Vista inicial de datos\n",
    "df_florida.head()"
   ]
  },
  {
   "cell_type": "code",
   "execution_count": 4,
   "metadata": {},
   "outputs": [
    {
     "name": "stdout",
     "output_type": "stream",
     "text": [
      "<class 'pandas.core.frame.DataFrame'>\n",
      "RangeIndex: 2850000 entries, 0 to 2849999\n",
      "Data columns (total 8 columns):\n",
      " #   Column   Dtype \n",
      "---  ------   ----- \n",
      " 0   user_id  object\n",
      " 1   name     object\n",
      " 2   time     int64 \n",
      " 3   rating   int64 \n",
      " 4   text     object\n",
      " 5   pics     object\n",
      " 6   resp     object\n",
      " 7   gmap_id  object\n",
      "dtypes: int64(2), object(6)\n",
      "memory usage: 174.0+ MB\n"
     ]
    }
   ],
   "source": [
    "df_florida.info()"
   ]
  },
  {
   "cell_type": "code",
   "execution_count": 5,
   "metadata": {},
   "outputs": [
    {
     "name": "stdout",
     "output_type": "stream",
     "text": [
      "Total de reseñas en Florida: 2850000\n"
     ]
    }
   ],
   "source": [
    "# Conteo de reseñas totales\n",
    "total_reviews_florida = df_florida.shape[0]\n",
    "print(f\"Total de reseñas en Florida: {total_reviews_florida}\")"
   ]
  },
  {
   "cell_type": "code",
   "execution_count": 6,
   "metadata": {},
   "outputs": [
    {
     "data": {
      "text/plain": [
       "user_id          0\n",
       "name             0\n",
       "time             0\n",
       "rating           0\n",
       "text       1079510\n",
       "pics       2745810\n",
       "resp       2394601\n",
       "gmap_id          0\n",
       "dtype: int64"
      ]
     },
     "execution_count": 6,
     "metadata": {},
     "output_type": "execute_result"
    }
   ],
   "source": [
    "# Valores faltantes\n",
    "nulos_florida = df_florida.isnull().sum()\n",
    "nulos_florida"
   ]
  },
  {
   "cell_type": "code",
   "execution_count": 7,
   "metadata": {},
   "outputs": [
    {
     "name": "stdout",
     "output_type": "stream",
     "text": [
      "Columna 'pics' contiene listas\n"
     ]
    }
   ],
   "source": [
    "# veremos que columna contiene una lista\n",
    "for column in df_florida.columns:\n",
    "    if df_florida[column].apply(lambda x: isinstance(x, list)).any():\n",
    "        print(f\"Columna '{column}' contiene listas\")"
   ]
  },
  {
   "cell_type": "code",
   "execution_count": 8,
   "metadata": {},
   "outputs": [
    {
     "name": "stdout",
     "output_type": "stream",
     "text": [
      "Columna 'resp' contiene diccionarios\n"
     ]
    }
   ],
   "source": [
    "# veremos que columna contiene un diccionario\n",
    "for column in df_florida.columns:\n",
    "    if df_florida[column].apply(lambda x: isinstance(x, dict)).any():\n",
    "        print(f\"Columna '{column}' contiene diccionarios\")"
   ]
  },
  {
   "cell_type": "code",
   "execution_count": 9,
   "metadata": {},
   "outputs": [
    {
     "name": "stdout",
     "output_type": "stream",
     "text": [
      "Número de filas duplicadas (sin contar 'pics' y 'resp'): 119396\n"
     ]
    }
   ],
   "source": [
    "# Definir las columnas a considerar para la duplicación\n",
    "columns_to_check = df_florida.columns.difference(['pics', 'resp'])\n",
    "\n",
    "# Encontrar filas duplicadas considerando solo las columnas especificadas\n",
    "duplicated_rows = df_florida.duplicated(subset=columns_to_check)\n",
    "\n",
    "# Contar el número de filas duplicadas\n",
    "num_duplicated_rows = duplicated_rows.sum()\n",
    "\n",
    "print(\n",
    "    f\"Número de filas duplicadas (sin contar 'pics' y 'resp'): {num_duplicated_rows}\")"
   ]
  },
  {
   "cell_type": "code",
   "execution_count": 10,
   "metadata": {},
   "outputs": [
    {
     "name": "stdout",
     "output_type": "stream",
     "text": [
      "Porcentaje de datos utilizables en Florida:\n",
      "user_id: 100.00%\n",
      "name: 100.00%\n",
      "time: 100.00%\n",
      "rating: 100.00%\n",
      "text: 62.12%\n",
      "pics: 3.66%\n",
      "resp: 15.98%\n",
      "gmap_id: 100.00%\n"
     ]
    }
   ],
   "source": [
    "# Calcular el porcentaje de datos utilizables\n",
    "percent_data_usable_florida = (\n",
    "    df_florida.notnull().sum() / total_reviews_florida) * 100\n",
    "\n",
    "# Redondear a 2 decimales\n",
    "percent_data_usable_florida = percent_data_usable_florida.round(2)\n",
    "\n",
    "# Formatear y mostrar los resultados\n",
    "print('Porcentaje de datos utilizables en Florida:')\n",
    "for column, value in percent_data_usable_florida.items():\n",
    "    print(f'{column}: {value:.2f}%')"
   ]
  },
  {
   "cell_type": "code",
   "execution_count": 11,
   "metadata": {},
   "outputs": [
    {
     "name": "stdout",
     "output_type": "stream",
     "text": [
      "Frecuencia de cada valor de rating en Florida:\n",
      "1     192856\n",
      "2      88493\n",
      "3     221512\n",
      "4     476149\n",
      "5    1870990\n",
      "Name: rating, dtype: int64\n"
     ]
    },
    {
     "data": {
      "image/png": "[encoded data removed]",
      "text/plain": [
       "<Figure size 800x600 with 1 Axes>"
      ]
     },
     "metadata": {},
     "output_type": "display_data"
    }
   ],
   "source": [
    "# Calcular la frecuencia de cada valor de rating\n",
    "frecuencia_rating_florida = df_florida['rating'].value_counts().sort_index()\n",
    "\n",
    "# Mostrar la frecuencia de ratings\n",
    "print(\"Frecuencia de cada valor de rating en Florida:\")\n",
    "print(frecuencia_rating_florida)\n",
    "\n",
    "plt.figure(figsize=(8, 6))\n",
    "frecuencia_rating_florida.plot(kind='bar', color='skyblue')\n",
    "plt.title('Frecuencia de Ratings en Florida')\n",
    "plt.xlabel('Rating')\n",
    "plt.ylabel('Frecuencia')\n",
    "plt.xticks(rotation=0)\n",
    "# Mostrar los números totales dentro de las barras\n",
    "plt.bar_label(plt.gca().containers[0], label_type='edge', fontsize=10)\n",
    "plt.show()"
   ]
  },
  {
   "cell_type": "code",
   "execution_count": 12,
   "metadata": {},
   "outputs": [
    {
     "name": "stdout",
     "output_type": "stream",
     "text": [
      "Porcentaje de cada valoración (rating) en Florida:\n",
      "1     6.77\n",
      "2     3.11\n",
      "3     7.77\n",
      "4    16.71\n",
      "5    65.65\n",
      "Name: rating, dtype: float64\n"
     ]
    }
   ],
   "source": [
    "# Contar la frecuencia de cada valoración (rating) en el DataFrame\n",
    "rating_counts = df_florida['rating'].value_counts().sort_index()\n",
    "\n",
    "# Calcular el porcentaje de cada valoración y redondear a 2 decimales\n",
    "rating_percentages = ((rating_counts / rating_counts.sum()) * 100).round(2)\n",
    "\n",
    "# Mostrar los resultados\n",
    "print(\"Porcentaje de cada valoración (rating) en Florida:\")\n",
    "print(rating_percentages)"
   ]
  },
  {
   "cell_type": "code",
   "execution_count": 13,
   "metadata": {},
   "outputs": [
    {
     "data": {
      "image/png": "[encoded data removed]",
      "text/plain": [
       "<Figure size 1800x600 with 1 Axes>"
      ]
     },
     "metadata": {},
     "output_type": "display_data"
    }
   ],
   "source": [
    "# Convertir la columna 'time' a formato datetime\n",
    "df_florida['time'] = pd.to_datetime(df_florida['time'], unit='ms')\n",
    "\n",
    "# Extraer el mes y el año de la columna de tiempo\n",
    "df_florida['month'] = df_florida['time'].dt.to_period('M')\n",
    "\n",
    "# Calcular la cantidad de reseñas por mes\n",
    "cantidad_reseñas_mes_florida = df_florida['month'].value_counts().sort_index()\n",
    "\n",
    "# Visualizar la distribución de reseñas por mes\n",
    "plt.figure(figsize=(18, 6))\n",
    "cantidad_reseñas_mes_florida.plot(kind='bar', color='skyblue')\n",
    "plt.title('Número de Reseñas por Mes en Florida')\n",
    "plt.xlabel('Mes')\n",
    "plt.ylabel('Número de Reseñas')\n",
    "plt.xticks(rotation=90)\n",
    "plt.show()"
   ]
  },
  {
   "cell_type": "code",
   "execution_count": 14,
   "metadata": {},
   "outputs": [
    {
     "name": "stdout",
     "output_type": "stream",
     "text": [
      "Cantidad de reseñas por mes en Florida:\n"
     ]
    },
    {
     "data": {
      "text/plain": [
       "2003-01        1\n",
       "2003-05        8\n",
       "2003-06        3\n",
       "2005-05        8\n",
       "2005-06        3\n",
       "           ...  \n",
       "2021-05    59074\n",
       "2021-06    36170\n",
       "2021-07    12285\n",
       "2021-08     5176\n",
       "2021-09      275\n",
       "Freq: M, Name: month, Length: 177, dtype: int64"
      ]
     },
     "execution_count": 14,
     "metadata": {},
     "output_type": "execute_result"
    }
   ],
   "source": [
    "# Mostrar la cantidad de reseñas por mes\n",
    "print(\"Cantidad de reseñas por mes en Florida:\")\n",
    "cantidad_reseñas_mes_florida"
   ]
  },
  {
   "cell_type": "code",
   "execution_count": 15,
   "metadata": {},
   "outputs": [
    {
     "name": "stderr",
     "output_type": "stream",
     "text": [
      "[nltk_data] Downloading package vader_lexicon to C:\\Users\\Lenovo\n",
      "[nltk_data]     ThinkPad T440\\AppData\\Roaming\\nltk_data...\n",
      "[nltk_data]   Package vader_lexicon is already up-to-date!\n"
     ]
    },
    {
     "name": "stdout",
     "output_type": "stream",
     "text": [
      "Porcentaje de Reseñas Positivas: 88.8%\n",
      "Porcentaje de Reseñas Negativas: 11.2%\n",
      "Suma total de los porcentajes (positivas + negativas): 100.0%\n"
     ]
    }
   ],
   "source": [
    "import nltk\n",
    "from nltk.sentiment.vader import SentimentIntensityAnalyzer\n",
    "\n",
    "# Descargar el lexicon de VADER\n",
    "nltk.download('vader_lexicon')\n",
    "\n",
    "# Inicializar el analizador de sentimientos de VADER\n",
    "sia = SentimentIntensityAnalyzer()\n",
    "\n",
    "# Filtrar las reseñas no nulas\n",
    "df_florida_filtered = df_florida[df_florida['text'].notnull()]\n",
    "\n",
    "# Calcular el puntaje de sentimiento para cada reseña\n",
    "df_florida_filtered['sentiment_score'] = df_florida_filtered['text'].apply(\n",
    "    lambda x: sia.polarity_scores(x)['compound'])\n",
    "\n",
    "# Clasificar las reseñas como positivas o negativas\n",
    "df_florida_filtered['sentiment_label'] = df_florida_filtered['sentiment_score'].apply(\n",
    "    lambda x: 'Positiva' if x > 0 else ('Negativa' if x < 0 else 'Neutral'))\n",
    "\n",
    "# Filtrar solo las reseñas positivas y negativas\n",
    "df_florida_filtered = df_florida_filtered[df_florida_filtered['sentiment_label'] != 'Neutral']\n",
    "\n",
    "# Contar el número de reseñas positivas y negativas\n",
    "positive_reviews = df_florida_filtered[df_florida_filtered['sentiment_label']\n",
    "                                       == 'Positiva'].shape[0]\n",
    "negative_reviews = df_florida_filtered[df_florida_filtered['sentiment_label']\n",
    "                                       == 'Negativa'].shape[0]\n",
    "total_reviews = positive_reviews + negative_reviews\n",
    "\n",
    "# Calcular los porcentajes de reseñas positivas y negativas\n",
    "positive_percentage = round((positive_reviews / total_reviews) * 100, 2)\n",
    "negative_percentage = round((negative_reviews / total_reviews) * 100, 2)\n",
    "\n",
    "print(f\"Porcentaje de Reseñas Positivas: {positive_percentage}%\")\n",
    "print(f\"Porcentaje de Reseñas Negativas: {negative_percentage}%\")\n",
    "print(\n",
    "    f\"Suma total de los porcentajes (positivas + negativas): {positive_percentage + negative_percentage}%\")"
   ]
  },
  {
   "cell_type": "code",
   "execution_count": 16,
   "metadata": {},
   "outputs": [
    {
     "name": "stdout",
     "output_type": "stream",
     "text": [
      "      Palabra  Frecuencia\n",
      "186     great      523390\n",
      "167      good      362308\n",
      "188   service      334058\n",
      "691      food      331926\n",
      "42      place      292441\n",
      "55      staff      187407\n",
      "8        time      170345\n",
      "182      nice      161632\n",
      "185  friendly      156601\n",
      "158      best      152561\n"
     ]
    }
   ],
   "source": [
    "from sklearn.feature_extraction.text import CountVectorizer\n",
    "import pandas as pd\n",
    "\n",
    "# Filtrar las reseñas no nulas\n",
    "df_florida_filtered = df_florida[df_florida['text'].notnull()]\n",
    "\n",
    "# Inicializar CountVectorizer para convertir texto en matriz de conteo de palabras\n",
    "# Eliminar palabras comunes del inglés\n",
    "vectorizer = CountVectorizer(stop_words='english')\n",
    "word_counts = vectorizer.fit_transform(df_florida_filtered['text'])\n",
    "\n",
    "# Sumar la cantidad de cada palabra\n",
    "word_counts_sum = word_counts.sum(axis=0)\n",
    "\n",
    "# Crear un DataFrame con las palabras y sus frecuencias\n",
    "word_freq = [(word, word_counts_sum[0, idx])\n",
    "             for word, idx in vectorizer.vocabulary_.items()]\n",
    "word_freq_df = pd.DataFrame(word_freq, columns=['Palabra', 'Frecuencia'])\n",
    "\n",
    "# Ordenar por frecuencia en orden descendente\n",
    "word_freq_df = word_freq_df.sort_values(by='Frecuencia', ascending=False)\n",
    "\n",
    "# Mostrar las 10 palabras más frecuentes\n",
    "print(word_freq_df.head(10))"
   ]
  },
  {
   "cell_type": "code",
   "execution_count": 17,
   "metadata": {},
   "outputs": [
    {
     "name": "stdout",
     "output_type": "stream",
     "text": [
      "Porcentaje total de datos utilizables en Florida: 72.72%\n"
     ]
    }
   ],
   "source": [
    "# Calcular el porcentaje total de datos utilizables\n",
    "total_percent_usable = percent_data_usable_florida.mean()\n",
    "\n",
    "# Redondear a 2 decimales y mostrar el resultado\n",
    "total_percent_usable = round(total_percent_usable, 2)\n",
    "print(\n",
    "    f'Porcentaje total de datos utilizables en Florida: {total_percent_usable:.2f}%')"
   ]
  },
  {
   "cell_type": "code",
   "execution_count": 18,
   "metadata": {},
   "outputs": [
    {
     "name": "stdout",
     "output_type": "stream",
     "text": [
      "Top 5 combinaciones de palabras más frecuentes y sus co-ocurrencias:\n",
      "(great, service): 163159\n",
      "(food, great): 152288\n",
      "(food, good): 148070\n",
      "(great, place): 123759\n",
      "(food, service): 116952\n"
     ]
    }
   ],
   "source": [
    "from sklearn.feature_extraction.text import CountVectorizer\n",
    "import pandas as pd\n",
    "import numpy as np\n",
    "from scipy.sparse import coo_matrix\n",
    "\n",
    "# Filtrar las reseñas no nulas\n",
    "df_florida_filtered = df_florida[df_florida['text'].notnull()]\n",
    "\n",
    "# Inicializar CountVectorizer para convertir texto en una matriz de conteo de palabras\n",
    "# Eliminar palabras comunes del inglés\n",
    "vectorizer = CountVectorizer(stop_words='english')\n",
    "word_counts = vectorizer.fit_transform(df_florida_filtered['text'])\n",
    "\n",
    "# Calcular la matriz de co-ocurrencia dispersa\n",
    "co_occurrence_matrix_sparse = word_counts.T.dot(word_counts)\n",
    "\n",
    "# Convertir la matriz dispersa a formato COO (Coordinate list) para facilitar la manipulación\n",
    "coo = coo_matrix(co_occurrence_matrix_sparse)\n",
    "\n",
    "# Crear un DataFrame a partir de la matriz COO para manipulación más fácil\n",
    "co_occurrence_df = pd.DataFrame(\n",
    "    {'word1': coo.row, 'word2': coo.col, 'co_occurrence': coo.data})\n",
    "\n",
    "# Mapear los índices de palabras a sus términos reales\n",
    "terms = vectorizer.get_feature_names_out()\n",
    "co_occurrence_df['word1'] = co_occurrence_df['word1'].map(lambda x: terms[x])\n",
    "co_occurrence_df['word2'] = co_occurrence_df['word2'].map(lambda x: terms[x])\n",
    "\n",
    "# Filtrar solo las combinaciones donde la primera palabra es menor que la segunda (para evitar duplicados inversos)\n",
    "co_occurrence_df = co_occurrence_df[co_occurrence_df['word1']\n",
    "                                    < co_occurrence_df['word2']]\n",
    "\n",
    "# Ordenar por la frecuencia de co-ocurrencia en orden descendente\n",
    "top_combinations = co_occurrence_df.sort_values(\n",
    "    by='co_occurrence', ascending=False).head(5)\n",
    "\n",
    "# Imprimir las 5 combinaciones más frecuentes\n",
    "print(\"Top 5 combinaciones de palabras más frecuentes y sus co-ocurrencias:\")\n",
    "for _, row in top_combinations.iterrows():\n",
    "    print(f\"({row['word1']}, {row['word2']}): {row['co_occurrence']}\")"
   ]
  }
 ],
 "metadata": {
  "kernelspec": {
   "display_name": "Python 3",
   "language": "python",
   "name": "python3"
  },
  "language_info": {
   "codemirror_mode": {
    "name": "ipython",
    "version": 3
   },
   "file_extension": ".py",
   "mimetype": "text/x-python",
   "name": "python",
   "nbconvert_exporter": "python",
   "pygments_lexer": "ipython3",
   "version": "3.11.0"
  }
 },
 "nbformat": 4,
 "nbformat_minor": 2
}
