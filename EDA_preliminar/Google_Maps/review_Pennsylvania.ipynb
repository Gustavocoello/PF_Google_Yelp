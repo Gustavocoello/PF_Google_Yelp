{
 "cells": [
  {
   "cell_type": "code",
   "execution_count": 1,
   "metadata": {},
   "outputs": [],
   "source": [
    "import pandas as pd\n",
    "import matplotlib.pyplot as plt\n",
    "import warnings\n",
    "warnings.filterwarnings('ignore')"
   ]
  },
  {
   "cell_type": "code",
   "execution_count": 2,
   "metadata": {},
   "outputs": [],
   "source": [
    "# Cargar el archivo JSON forzando 'user_id' a ser de tipo str\n",
    "file_path = 'review_Pennsylvania.json'\n",
    "df_pennsylvania = pd.read_json(file_path, dtype={'user_id': str})"
   ]
  },
  {
   "cell_type": "code",
   "execution_count": 3,
   "metadata": {},
   "outputs": [
    {
     "data": {
      "text/html": [
       "<div>\n",
       "<style scoped>\n",
       "    .dataframe tbody tr th:only-of-type {\n",
       "        vertical-align: middle;\n",
       "    }\n",
       "\n",
       "    .dataframe tbody tr th {\n",
       "        vertical-align: top;\n",
       "    }\n",
       "\n",
       "    .dataframe thead th {\n",
       "        text-align: right;\n",
       "    }\n",
       "</style>\n",
       "<table border=\"1\" class=\"dataframe\">\n",
       "  <thead>\n",
       "    <tr style=\"text-align: right;\">\n",
       "      <th></th>\n",
       "      <th>user_id</th>\n",
       "      <th>name</th>\n",
       "      <th>time</th>\n",
       "      <th>rating</th>\n",
       "      <th>text</th>\n",
       "      <th>pics</th>\n",
       "      <th>resp</th>\n",
       "      <th>gmap_id</th>\n",
       "    </tr>\n",
       "  </thead>\n",
       "  <tbody>\n",
       "    <tr>\n",
       "      <th>0</th>\n",
       "      <td>104944742559079759337</td>\n",
       "      <td>Jaron Whitfield</td>\n",
       "      <td>1517731762839</td>\n",
       "      <td>5</td>\n",
       "      <td>Joe is quite unique of his line of work, he as...</td>\n",
       "      <td>None</td>\n",
       "      <td>None</td>\n",
       "      <td>0x89c6c63c8cd87141:0x54d0d283872eecbb</td>\n",
       "    </tr>\n",
       "    <tr>\n",
       "      <th>1</th>\n",
       "      <td>117609702832980320437</td>\n",
       "      <td>Jonathan McCarthy</td>\n",
       "      <td>1476276291163</td>\n",
       "      <td>5</td>\n",
       "      <td>For such a small place their impact on my life...</td>\n",
       "      <td>None</td>\n",
       "      <td>None</td>\n",
       "      <td>0x89c6c63c8cd87141:0x54d0d283872eecbb</td>\n",
       "    </tr>\n",
       "    <tr>\n",
       "      <th>2</th>\n",
       "      <td>110563242018426632956</td>\n",
       "      <td>Rocky Kev</td>\n",
       "      <td>1338826945578</td>\n",
       "      <td>5</td>\n",
       "      <td>I usually give them a call before I stop by to...</td>\n",
       "      <td>None</td>\n",
       "      <td>None</td>\n",
       "      <td>0x89c6c63c8cd87141:0x54d0d283872eecbb</td>\n",
       "    </tr>\n",
       "    <tr>\n",
       "      <th>3</th>\n",
       "      <td>112895973505401399406</td>\n",
       "      <td>Josep Valls</td>\n",
       "      <td>1363286110554</td>\n",
       "      <td>5</td>\n",
       "      <td>My bike had been sitting outdoors for a good w...</td>\n",
       "      <td>None</td>\n",
       "      <td>None</td>\n",
       "      <td>0x89c6c63c8cd87141:0x54d0d283872eecbb</td>\n",
       "    </tr>\n",
       "    <tr>\n",
       "      <th>4</th>\n",
       "      <td>110619674885963828884</td>\n",
       "      <td>Timaree Schmit</td>\n",
       "      <td>1548798329760</td>\n",
       "      <td>5</td>\n",
       "      <td>Always an easy experience. Service is knowledg...</td>\n",
       "      <td>None</td>\n",
       "      <td>None</td>\n",
       "      <td>0x89c6c63c8cd87141:0x54d0d283872eecbb</td>\n",
       "    </tr>\n",
       "  </tbody>\n",
       "</table>\n",
       "</div>"
      ],
      "text/plain": [
       "                 user_id               name           time  rating  \\\n",
       "0  104944742559079759337    Jaron Whitfield  1517731762839       5   \n",
       "1  117609702832980320437  Jonathan McCarthy  1476276291163       5   \n",
       "2  110563242018426632956          Rocky Kev  1338826945578       5   \n",
       "3  112895973505401399406        Josep Valls  1363286110554       5   \n",
       "4  110619674885963828884     Timaree Schmit  1548798329760       5   \n",
       "\n",
       "                                                text  pics  resp  \\\n",
       "0  Joe is quite unique of his line of work, he as...  None  None   \n",
       "1  For such a small place their impact on my life...  None  None   \n",
       "2  I usually give them a call before I stop by to...  None  None   \n",
       "3  My bike had been sitting outdoors for a good w...  None  None   \n",
       "4  Always an easy experience. Service is knowledg...  None  None   \n",
       "\n",
       "                                 gmap_id  \n",
       "0  0x89c6c63c8cd87141:0x54d0d283872eecbb  \n",
       "1  0x89c6c63c8cd87141:0x54d0d283872eecbb  \n",
       "2  0x89c6c63c8cd87141:0x54d0d283872eecbb  \n",
       "3  0x89c6c63c8cd87141:0x54d0d283872eecbb  \n",
       "4  0x89c6c63c8cd87141:0x54d0d283872eecbb  "
      ]
     },
     "execution_count": 3,
     "metadata": {},
     "output_type": "execute_result"
    }
   ],
   "source": [
    "# Vista inicial de datos\n",
    "df_pennsylvania.head()"
   ]
  },
  {
   "cell_type": "code",
   "execution_count": 4,
   "metadata": {},
   "outputs": [
    {
     "name": "stdout",
     "output_type": "stream",
     "text": [
      "<class 'pandas.core.frame.DataFrame'>\n",
      "RangeIndex: 2400000 entries, 0 to 2399999\n",
      "Data columns (total 8 columns):\n",
      " #   Column   Dtype \n",
      "---  ------   ----- \n",
      " 0   user_id  object\n",
      " 1   name     object\n",
      " 2   time     int64 \n",
      " 3   rating   int64 \n",
      " 4   text     object\n",
      " 5   pics     object\n",
      " 6   resp     object\n",
      " 7   gmap_id  object\n",
      "dtypes: int64(2), object(6)\n",
      "memory usage: 146.5+ MB\n"
     ]
    }
   ],
   "source": [
    "df_pennsylvania.info()"
   ]
  },
  {
   "cell_type": "code",
   "execution_count": 5,
   "metadata": {},
   "outputs": [
    {
     "name": "stdout",
     "output_type": "stream",
     "text": [
      "Total de reseñas en Pennsylvania: 2400000\n"
     ]
    }
   ],
   "source": [
    "# Conteo de reseñas totales\n",
    "total_reviews_pennsylvania = df_pennsylvania.shape[0]\n",
    "print(f\"Total de reseñas en Pennsylvania: {total_reviews_pennsylvania}\")"
   ]
  },
  {
   "cell_type": "code",
   "execution_count": 6,
   "metadata": {},
   "outputs": [
    {
     "data": {
      "text/plain": [
       "user_id          0\n",
       "name             0\n",
       "time             0\n",
       "rating           0\n",
       "text       1041386\n",
       "pics       2342190\n",
       "resp       2099889\n",
       "gmap_id          0\n",
       "dtype: int64"
      ]
     },
     "execution_count": 6,
     "metadata": {},
     "output_type": "execute_result"
    }
   ],
   "source": [
    "# Valores faltantes\n",
    "nulos_pennsylvania = df_pennsylvania.isnull().sum()\n",
    "nulos_pennsylvania"
   ]
  },
  {
   "cell_type": "code",
   "execution_count": 7,
   "metadata": {},
   "outputs": [
    {
     "name": "stdout",
     "output_type": "stream",
     "text": [
      "Número de filas duplicadas (sin contar 'pics' y 'resp'): 33568\n"
     ]
    }
   ],
   "source": [
    "# Definir las columnas a considerar para la duplicación\n",
    "columns_to_check = df_pennsylvania.columns.difference(['pics', 'resp'])\n",
    "\n",
    "# Encontrar filas duplicadas considerando solo las columnas especificadas\n",
    "duplicated_rows = df_pennsylvania.duplicated(subset=columns_to_check)\n",
    "\n",
    "# Contar el número de filas duplicadas\n",
    "num_duplicated_rows = duplicated_rows.sum()\n",
    "\n",
    "print(\n",
    "    f\"Número de filas duplicadas (sin contar 'pics' y 'resp'): {num_duplicated_rows}\")"
   ]
  },
  {
   "cell_type": "code",
   "execution_count": 8,
   "metadata": {},
   "outputs": [
    {
     "name": "stdout",
     "output_type": "stream",
     "text": [
      "Porcentaje de datos utilizables en Pennsylvania:\n",
      "user_id: 100.00%\n",
      "name: 100.00%\n",
      "time: 100.00%\n",
      "rating: 100.00%\n",
      "text: 56.61%\n",
      "pics: 2.41%\n",
      "resp: 12.50%\n",
      "gmap_id: 100.00%\n"
     ]
    }
   ],
   "source": [
    "# Calcular el porcentaje de datos utilizables\n",
    "percent_data_usable_pennsylvania = (\n",
    "    df_pennsylvania.notnull().sum() / total_reviews_pennsylvania) * 100\n",
    "\n",
    "# Redondear a 2 decimales\n",
    "percent_data_usable_pennsylvania = percent_data_usable_pennsylvania.round(2)\n",
    "\n",
    "# Formatear y mostrar los resultados\n",
    "print('Porcentaje de datos utilizables en Pennsylvania:')\n",
    "for column, value in percent_data_usable_pennsylvania.items():\n",
    "    print(f'{column}: {value:.2f}%')"
   ]
  },
  {
   "cell_type": "code",
   "execution_count": 9,
   "metadata": {},
   "outputs": [
    {
     "name": "stdout",
     "output_type": "stream",
     "text": [
      "Frecuencia de cada valor de rating en Pennsylvania:\n",
      "1     124412\n",
      "2      70854\n",
      "3     199502\n",
      "4     461032\n",
      "5    1544200\n",
      "Name: rating, dtype: int64\n"
     ]
    },
    {
     "data": {
      "image/png": "[encoded data removed]",
      "text/plain": [
       "<Figure size 800x600 with 1 Axes>"
      ]
     },
     "metadata": {},
     "output_type": "display_data"
    }
   ],
   "source": [
    "# Calcular la frecuencia de cada valor de rating\n",
    "frecuencia_rating_pennsylvania = df_pennsylvania['rating'].value_counts(\n",
    ").sort_index()\n",
    "\n",
    "# Mostrar la frecuencia de ratings\n",
    "print(\"Frecuencia de cada valor de rating en Pennsylvania:\")\n",
    "print(frecuencia_rating_pennsylvania)\n",
    "\n",
    "plt.figure(figsize=(8, 6))\n",
    "frecuencia_rating_pennsylvania.plot(kind='bar', color='skyblue')\n",
    "plt.title('Frecuencia de Ratings en Pennsylvania')\n",
    "plt.xlabel('Rating')\n",
    "plt.ylabel('Frecuencia')\n",
    "plt.xticks(rotation=0)\n",
    "# Mostrar los números totales dentro de las barras\n",
    "plt.bar_label(plt.gca().containers[0], label_type='edge', fontsize=10)\n",
    "plt.show()"
   ]
  },
  {
   "cell_type": "code",
   "execution_count": 10,
   "metadata": {},
   "outputs": [
    {
     "name": "stdout",
     "output_type": "stream",
     "text": [
      "Porcentaje de cada valoración (rating) en Pennsylvania:\n",
      "1     5.18\n",
      "2     2.95\n",
      "3     8.31\n",
      "4    19.21\n",
      "5    64.34\n",
      "Name: rating, dtype: float64\n"
     ]
    }
   ],
   "source": [
    "# Contar la frecuencia de cada valoración (rating) en el DataFrame\n",
    "rating_counts = df_pennsylvania['rating'].value_counts().sort_index()\n",
    "\n",
    "# Calcular el porcentaje de cada valoración y redondear a 2 decimales\n",
    "rating_percentages = ((rating_counts / rating_counts.sum()) * 100).round(2)\n",
    "\n",
    "# Mostrar los resultados\n",
    "print(\"Porcentaje de cada valoración (rating) en Pennsylvania:\")\n",
    "print(rating_percentages)"
   ]
  },
  {
   "cell_type": "code",
   "execution_count": 11,
   "metadata": {},
   "outputs": [
    {
     "data": {
      "image/png": "[encoded data removed]",
      "text/plain": [
       "<Figure size 1800x600 with 1 Axes>"
      ]
     },
     "metadata": {},
     "output_type": "display_data"
    }
   ],
   "source": [
    "# Convertir la columna 'time' a formato datetime\n",
    "df_pennsylvania['time'] = pd.to_datetime(df_pennsylvania['time'], unit='ms')\n",
    "\n",
    "# Extraer el mes y el año de la columna de tiempo\n",
    "df_pennsylvania['month'] = df_pennsylvania['time'].dt.to_period('M')\n",
    "\n",
    "# Calcular la cantidad de reseñas por mes\n",
    "cantidad_reseñas_mes_pennsylvania = df_pennsylvania['month'].value_counts(\n",
    ").sort_index()\n",
    "\n",
    "# Visualizar la distribución de reseñas por mes sin etiquetas de número\n",
    "plt.figure(figsize=(18, 6))\n",
    "cantidad_reseñas_mes_pennsylvania.plot(kind='bar', color='skyblue')\n",
    "plt.title('Número de Reseñas por Mes en Pennsylvania')\n",
    "plt.xlabel('Mes')\n",
    "plt.ylabel('Número de Reseñas')\n",
    "plt.xticks(rotation=90)\n",
    "plt.show()"
   ]
  },
  {
   "cell_type": "code",
   "execution_count": 12,
   "metadata": {},
   "outputs": [
    {
     "name": "stdout",
     "output_type": "stream",
     "text": [
      "Cantidad de reseñas por mes en Pennsylvania:\n",
      "1990-12        1\n",
      "2004-03        2\n",
      "2004-09        1\n",
      "2005-08        1\n",
      "2006-02       14\n",
      "           ...  \n",
      "2021-05    47202\n",
      "2021-06    16553\n",
      "2021-07     6545\n",
      "2021-08     2753\n",
      "2021-09      127\n",
      "Freq: M, Name: month, Length: 175, dtype: int64\n"
     ]
    }
   ],
   "source": [
    "# Mostrar la cantidad de reseñas por mes\n",
    "print(\"Cantidad de reseñas por mes en Pennsylvania:\")\n",
    "print(cantidad_reseñas_mes_pennsylvania)"
   ]
  },
  {
   "cell_type": "code",
   "execution_count": 13,
   "metadata": {},
   "outputs": [
    {
     "name": "stderr",
     "output_type": "stream",
     "text": [
      "[nltk_data] Downloading package vader_lexicon to C:\\Users\\Lenovo\n",
      "[nltk_data]     ThinkPad T440\\AppData\\Roaming\\nltk_data...\n",
      "[nltk_data]   Package vader_lexicon is already up-to-date!\n"
     ]
    },
    {
     "name": "stdout",
     "output_type": "stream",
     "text": [
      "Porcentaje de Reseñas Positivas: 90.48%\n",
      "Porcentaje de Reseñas Negativas: 9.52%\n",
      "Suma total de los porcentajes (positivas + negativas): 100.0%\n"
     ]
    }
   ],
   "source": [
    "import nltk\n",
    "from nltk.sentiment.vader import SentimentIntensityAnalyzer\n",
    "\n",
    "# Descargar el lexicon de VADER\n",
    "nltk.download('vader_lexicon')\n",
    "\n",
    "# Inicializar el analizador de sentimientos de VADER\n",
    "sia = SentimentIntensityAnalyzer()\n",
    "\n",
    "# Filtrar las reseñas no nulas\n",
    "df_pennsylvania_filtered = df_pennsylvania[df_pennsylvania['text'].notnull()]\n",
    "\n",
    "# Calcular el puntaje de sentimiento para cada reseña\n",
    "df_pennsylvania_filtered['sentiment_score'] = df_pennsylvania_filtered['text'].apply(\n",
    "    lambda x: sia.polarity_scores(x)['compound'])\n",
    "\n",
    "# Clasificar las reseñas como positivas o negativas\n",
    "df_pennsylvania_filtered['sentiment_label'] = df_pennsylvania_filtered['sentiment_score'].apply(\n",
    "    lambda x: 'Positiva' if x > 0 else ('Negativa' if x < 0 else 'Neutral'))\n",
    "\n",
    "# Filtrar solo las reseñas positivas y negativas\n",
    "df_pennsylvania_filtered = df_pennsylvania_filtered[\n",
    "    df_pennsylvania_filtered['sentiment_label'] != 'Neutral']\n",
    "\n",
    "# Contar el número de reseñas positivas y negativas\n",
    "positive_reviews = df_pennsylvania_filtered[df_pennsylvania_filtered['sentiment_label']\n",
    "                                            == 'Positiva'].shape[0]\n",
    "negative_reviews = df_pennsylvania_filtered[df_pennsylvania_filtered['sentiment_label']\n",
    "                                            == 'Negativa'].shape[0]\n",
    "total_reviews = positive_reviews + negative_reviews\n",
    "\n",
    "# Calcular los porcentajes de reseñas positivas y negativas\n",
    "positive_percentage = round((positive_reviews / total_reviews) * 100, 2)\n",
    "negative_percentage = round((negative_reviews / total_reviews) * 100, 2)\n",
    "\n",
    "print(f\"Porcentaje de Reseñas Positivas: {positive_percentage}%\")\n",
    "print(f\"Porcentaje de Reseñas Negativas: {negative_percentage}%\")\n",
    "print(\n",
    "    f\"Suma total de los porcentajes (positivas + negativas): {positive_percentage + negative_percentage}%\")"
   ]
  },
  {
   "cell_type": "code",
   "execution_count": 14,
   "metadata": {},
   "outputs": [
    {
     "name": "stdout",
     "output_type": "stream",
     "text": [
      "      Palabra  Frecuencia\n",
      "43      great      407419\n",
      "57       good      273529\n",
      "26      place      222963\n",
      "400      food      215007\n",
      "74    service      204193\n",
      "53       nice      154615\n",
      "81   friendly      148615\n",
      "141     staff      146088\n",
      "78       time      104768\n",
      "139      best      102219\n"
     ]
    }
   ],
   "source": [
    "from sklearn.feature_extraction.text import CountVectorizer\n",
    "import pandas as pd\n",
    "\n",
    "# Filtrar las reseñas no nulas\n",
    "df_pennsylvania_filtered = df_pennsylvania[df_pennsylvania['text'].notnull()]\n",
    "\n",
    "# Inicializar CountVectorizer para convertir texto en matriz de conteo de palabras\n",
    "# Eliminar palabras comunes del inglés\n",
    "vectorizer = CountVectorizer(stop_words='english')\n",
    "word_counts = vectorizer.fit_transform(df_pennsylvania_filtered['text'])\n",
    "\n",
    "# Sumar la cantidad de cada palabra\n",
    "word_counts_sum = word_counts.sum(axis=0)\n",
    "\n",
    "# Crear un DataFrame con las palabras y sus frecuencias\n",
    "word_freq = [(word, word_counts_sum[0, idx])\n",
    "             for word, idx in vectorizer.vocabulary_.items()]\n",
    "word_freq_df = pd.DataFrame(word_freq, columns=['Palabra', 'Frecuencia'])\n",
    "\n",
    "# Ordenar por frecuencia en orden descendente\n",
    "word_freq_df = word_freq_df.sort_values(by='Frecuencia', ascending=False)\n",
    "\n",
    "# Mostrar las 10 palabras más frecuentes\n",
    "print(word_freq_df.head(10))"
   ]
  },
  {
   "cell_type": "code",
   "execution_count": 15,
   "metadata": {},
   "outputs": [
    {
     "name": "stdout",
     "output_type": "stream",
     "text": [
      "Porcentaje total de datos utilizables en Pennsylvania: 71.44%\n"
     ]
    }
   ],
   "source": [
    "# Calcular el porcentaje total de datos utilizables\n",
    "total_percent_usable = percent_data_usable_pennsylvania.mean()\n",
    "\n",
    "# Redondear a 2 decimales y mostrar el resultado\n",
    "total_percent_usable = round(total_percent_usable, 2)\n",
    "print(\n",
    "    f'Porcentaje total de datos utilizables en Pennsylvania: {total_percent_usable:.2f}%')"
   ]
  },
  {
   "cell_type": "code",
   "execution_count": 16,
   "metadata": {},
   "outputs": [
    {
     "name": "stdout",
     "output_type": "stream",
     "text": [
      "Top 5 combinaciones de palabras más frecuentes y sus co-ocurrencias:\n",
      "(great, service): 102303\n",
      "(great, place): 99906\n",
      "(food, good): 99767\n",
      "(food, great): 97872\n",
      "(friendly, staff): 62454\n"
     ]
    }
   ],
   "source": [
    "from sklearn.feature_extraction.text import CountVectorizer\n",
    "import pandas as pd\n",
    "import numpy as np\n",
    "from scipy.sparse import coo_matrix\n",
    "\n",
    "# Filtrar las reseñas no nulas\n",
    "df_pennsylvania_filtered = df_pennsylvania[df_pennsylvania['text'].notnull()]\n",
    "\n",
    "# Inicializar CountVectorizer para convertir texto en una matriz de conteo de palabras\n",
    "# Eliminar palabras comunes del inglés\n",
    "vectorizer = CountVectorizer(stop_words='english')\n",
    "word_counts = vectorizer.fit_transform(df_pennsylvania_filtered['text'])\n",
    "\n",
    "# Calcular la matriz de co-ocurrencia dispersa\n",
    "co_occurrence_matrix_sparse = word_counts.T.dot(word_counts)\n",
    "\n",
    "# Convertir la matriz dispersa a formato COO (Coordinate list) para facilitar la manipulación\n",
    "coo = coo_matrix(co_occurrence_matrix_sparse)\n",
    "\n",
    "# Crear un DataFrame a partir de la matriz COO para manipulación más fácil\n",
    "co_occurrence_df = pd.DataFrame(\n",
    "    {'word1': coo.row, 'word2': coo.col, 'co_occurrence': coo.data})\n",
    "\n",
    "# Mapear los índices de palabras a sus términos reales\n",
    "terms = vectorizer.get_feature_names_out()\n",
    "co_occurrence_df['word1'] = co_occurrence_df['word1'].map(lambda x: terms[x])\n",
    "co_occurrence_df['word2'] = co_occurrence_df['word2'].map(lambda x: terms[x])\n",
    "\n",
    "# Filtrar solo las combinaciones donde la primera palabra es menor que la segunda (para evitar duplicados inversos)\n",
    "co_occurrence_df = co_occurrence_df[co_occurrence_df['word1']\n",
    "                                    < co_occurrence_df['word2']]\n",
    "\n",
    "# Ordenar por la frecuencia de co-ocurrencia en orden descendente\n",
    "top_combinations = co_occurrence_df.sort_values(\n",
    "    by='co_occurrence', ascending=False).head(5)\n",
    "\n",
    "# Imprimir las 5 combinaciones más frecuentes\n",
    "print(\"Top 5 combinaciones de palabras más frecuentes y sus co-ocurrencias:\")\n",
    "for _, row in top_combinations.iterrows():\n",
    "    print(f\"({row['word1']}, {row['word2']}): {row['co_occurrence']}\")"
   ]
  }
 ],
 "metadata": {
  "kernelspec": {
   "display_name": "Python 3",
   "language": "python",
   "name": "python3"
  },
  "language_info": {
   "codemirror_mode": {
    "name": "ipython",
    "version": 3
   },
   "file_extension": ".py",
   "mimetype": "text/x-python",
   "name": "python",
   "nbconvert_exporter": "python",
   "pygments_lexer": "ipython3",
   "version": "3.11.0"
  }
 },
 "nbformat": 4,
 "nbformat_minor": 2
}
