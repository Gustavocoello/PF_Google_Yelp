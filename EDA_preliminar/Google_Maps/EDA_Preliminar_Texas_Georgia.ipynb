{
 "cells": [
  {
   "cell_type": "code",
   "execution_count": 34,
   "metadata": {},
   "outputs": [],
   "source": [
    "import pandas as pd\n"
   ]
  },
  {
   "cell_type": "code",
   "execution_count": 35,
   "metadata": {},
   "outputs": [],
   "source": [
    "lista_df_Georgia = []\n",
    "\n",
    "for i in range(1,14,1):\n",
    "   \n",
    "    lista_df_Georgia.append(pd.read_json(f\"review-Georgia/{i}.json\",lines=True))\n"
   ]
  },
  {
   "cell_type": "code",
   "execution_count": 36,
   "metadata": {},
   "outputs": [],
   "source": [
    "df_Georgia = pd.DataFrame()\n"
   ]
  },
  {
   "cell_type": "code",
   "execution_count": 37,
   "metadata": {},
   "outputs": [],
   "source": [
    "\n",
    "df_Georgia = pd.concat(lista_df_Georgia,axis=0)"
   ]
  },
  {
   "cell_type": "code",
   "execution_count": 38,
   "metadata": {},
   "outputs": [
    {
     "data": {
      "text/html": [
       "<div>\n",
       "<style scoped>\n",
       "    .dataframe tbody tr th:only-of-type {\n",
       "        vertical-align: middle;\n",
       "    }\n",
       "\n",
       "    .dataframe tbody tr th {\n",
       "        vertical-align: top;\n",
       "    }\n",
       "\n",
       "    .dataframe thead th {\n",
       "        text-align: right;\n",
       "    }\n",
       "</style>\n",
       "<table border=\"1\" class=\"dataframe\">\n",
       "  <thead>\n",
       "    <tr style=\"text-align: right;\">\n",
       "      <th></th>\n",
       "      <th>user_id</th>\n",
       "      <th>name</th>\n",
       "      <th>time</th>\n",
       "      <th>rating</th>\n",
       "      <th>text</th>\n",
       "      <th>pics</th>\n",
       "      <th>resp</th>\n",
       "      <th>gmap_id</th>\n",
       "    </tr>\n",
       "  </thead>\n",
       "  <tbody>\n",
       "    <tr>\n",
       "      <th>0</th>\n",
       "      <td>1.042277e+20</td>\n",
       "      <td>Brent Powell</td>\n",
       "      <td>1599604812269</td>\n",
       "      <td>5</td>\n",
       "      <td>Great hometown folk. Rob takes good care of al...</td>\n",
       "      <td>None</td>\n",
       "      <td>None</td>\n",
       "      <td>0x88f16e41928ff687:0x883dad4fd048e8f8</td>\n",
       "    </tr>\n",
       "    <tr>\n",
       "      <th>1</th>\n",
       "      <td>1.055723e+20</td>\n",
       "      <td>Evan Thomas</td>\n",
       "      <td>1502078169146</td>\n",
       "      <td>5</td>\n",
       "      <td>Very friendly hometown pharmarcy. Always helpf...</td>\n",
       "      <td>None</td>\n",
       "      <td>None</td>\n",
       "      <td>0x88f16e41928ff687:0x883dad4fd048e8f8</td>\n",
       "    </tr>\n",
       "    <tr>\n",
       "      <th>2</th>\n",
       "      <td>1.039554e+20</td>\n",
       "      <td>Caleb Howell</td>\n",
       "      <td>1502571430852</td>\n",
       "      <td>5</td>\n",
       "      <td>None</td>\n",
       "      <td>None</td>\n",
       "      <td>None</td>\n",
       "      <td>0x88f16e41928ff687:0x883dad4fd048e8f8</td>\n",
       "    </tr>\n",
       "    <tr>\n",
       "      <th>3</th>\n",
       "      <td>1.069746e+20</td>\n",
       "      <td>ashlee crawford</td>\n",
       "      <td>1494161075405</td>\n",
       "      <td>5</td>\n",
       "      <td>None</td>\n",
       "      <td>None</td>\n",
       "      <td>None</td>\n",
       "      <td>0x88f16e41928ff687:0x883dad4fd048e8f8</td>\n",
       "    </tr>\n",
       "    <tr>\n",
       "      <th>4</th>\n",
       "      <td>1.048457e+20</td>\n",
       "      <td>T Paulk</td>\n",
       "      <td>1495139229501</td>\n",
       "      <td>5</td>\n",
       "      <td>None</td>\n",
       "      <td>None</td>\n",
       "      <td>None</td>\n",
       "      <td>0x88f16e41928ff687:0x883dad4fd048e8f8</td>\n",
       "    </tr>\n",
       "    <tr>\n",
       "      <th>...</th>\n",
       "      <td>...</td>\n",
       "      <td>...</td>\n",
       "      <td>...</td>\n",
       "      <td>...</td>\n",
       "      <td>...</td>\n",
       "      <td>...</td>\n",
       "      <td>...</td>\n",
       "      <td>...</td>\n",
       "    </tr>\n",
       "    <tr>\n",
       "      <th>149995</th>\n",
       "      <td>1.133385e+20</td>\n",
       "      <td>Love The Hippy</td>\n",
       "      <td>1599323314859</td>\n",
       "      <td>4</td>\n",
       "      <td>Awesome place!!</td>\n",
       "      <td>None</td>\n",
       "      <td>None</td>\n",
       "      <td>0x8860748c546fef29:0x83a1ffb0a44a9d26</td>\n",
       "    </tr>\n",
       "    <tr>\n",
       "      <th>149996</th>\n",
       "      <td>1.182398e+20</td>\n",
       "      <td>Roger Conry</td>\n",
       "      <td>1583468426655</td>\n",
       "      <td>4</td>\n",
       "      <td>They always treat me well</td>\n",
       "      <td>None</td>\n",
       "      <td>{'time': 1583509072191, 'text': 'roger , ido p...</td>\n",
       "      <td>0x8860748c546fef29:0x83a1ffb0a44a9d26</td>\n",
       "    </tr>\n",
       "    <tr>\n",
       "      <th>149997</th>\n",
       "      <td>1.069748e+20</td>\n",
       "      <td>Kristina Fusco</td>\n",
       "      <td>1550553451577</td>\n",
       "      <td>5</td>\n",
       "      <td>Very friendly and would 100% go to again. They...</td>\n",
       "      <td>None</td>\n",
       "      <td>None</td>\n",
       "      <td>0x8860748c546fef29:0x83a1ffb0a44a9d26</td>\n",
       "    </tr>\n",
       "    <tr>\n",
       "      <th>149998</th>\n",
       "      <td>1.020953e+20</td>\n",
       "      <td>Georgiagirl</td>\n",
       "      <td>1525789761757</td>\n",
       "      <td>1</td>\n",
       "      <td>The owner is rude and acts like she knows ever...</td>\n",
       "      <td>None</td>\n",
       "      <td>None</td>\n",
       "      <td>0x8860748c546fef29:0x83a1ffb0a44a9d26</td>\n",
       "    </tr>\n",
       "    <tr>\n",
       "      <th>149999</th>\n",
       "      <td>1.055816e+20</td>\n",
       "      <td>Larry Thrasher</td>\n",
       "      <td>1559411933300</td>\n",
       "      <td>4</td>\n",
       "      <td>Good service today.Thank you.</td>\n",
       "      <td>None</td>\n",
       "      <td>None</td>\n",
       "      <td>0x8860748c546fef29:0x83a1ffb0a44a9d26</td>\n",
       "    </tr>\n",
       "  </tbody>\n",
       "</table>\n",
       "<p>1950000 rows × 8 columns</p>\n",
       "</div>"
      ],
      "text/plain": [
       "             user_id             name           time  rating  \\\n",
       "0       1.042277e+20     Brent Powell  1599604812269       5   \n",
       "1       1.055723e+20      Evan Thomas  1502078169146       5   \n",
       "2       1.039554e+20     Caleb Howell  1502571430852       5   \n",
       "3       1.069746e+20  ashlee crawford  1494161075405       5   \n",
       "4       1.048457e+20          T Paulk  1495139229501       5   \n",
       "...              ...              ...            ...     ...   \n",
       "149995  1.133385e+20   Love The Hippy  1599323314859       4   \n",
       "149996  1.182398e+20      Roger Conry  1583468426655       4   \n",
       "149997  1.069748e+20   Kristina Fusco  1550553451577       5   \n",
       "149998  1.020953e+20      Georgiagirl  1525789761757       1   \n",
       "149999  1.055816e+20   Larry Thrasher  1559411933300       4   \n",
       "\n",
       "                                                     text  pics  \\\n",
       "0       Great hometown folk. Rob takes good care of al...  None   \n",
       "1       Very friendly hometown pharmarcy. Always helpf...  None   \n",
       "2                                                    None  None   \n",
       "3                                                    None  None   \n",
       "4                                                    None  None   \n",
       "...                                                   ...   ...   \n",
       "149995                                    Awesome place!!  None   \n",
       "149996                          They always treat me well  None   \n",
       "149997  Very friendly and would 100% go to again. They...  None   \n",
       "149998  The owner is rude and acts like she knows ever...  None   \n",
       "149999                      Good service today.Thank you.  None   \n",
       "\n",
       "                                                     resp  \\\n",
       "0                                                    None   \n",
       "1                                                    None   \n",
       "2                                                    None   \n",
       "3                                                    None   \n",
       "4                                                    None   \n",
       "...                                                   ...   \n",
       "149995                                               None   \n",
       "149996  {'time': 1583509072191, 'text': 'roger , ido p...   \n",
       "149997                                               None   \n",
       "149998                                               None   \n",
       "149999                                               None   \n",
       "\n",
       "                                      gmap_id  \n",
       "0       0x88f16e41928ff687:0x883dad4fd048e8f8  \n",
       "1       0x88f16e41928ff687:0x883dad4fd048e8f8  \n",
       "2       0x88f16e41928ff687:0x883dad4fd048e8f8  \n",
       "3       0x88f16e41928ff687:0x883dad4fd048e8f8  \n",
       "4       0x88f16e41928ff687:0x883dad4fd048e8f8  \n",
       "...                                       ...  \n",
       "149995  0x8860748c546fef29:0x83a1ffb0a44a9d26  \n",
       "149996  0x8860748c546fef29:0x83a1ffb0a44a9d26  \n",
       "149997  0x8860748c546fef29:0x83a1ffb0a44a9d26  \n",
       "149998  0x8860748c546fef29:0x83a1ffb0a44a9d26  \n",
       "149999  0x8860748c546fef29:0x83a1ffb0a44a9d26  \n",
       "\n",
       "[1950000 rows x 8 columns]"
      ]
     },
     "execution_count": 38,
     "metadata": {},
     "output_type": "execute_result"
    }
   ],
   "source": [
    "df_Georgia"
   ]
  },
  {
   "cell_type": "code",
   "execution_count": 39,
   "metadata": {},
   "outputs": [
    {
     "data": {
      "text/plain": [
       "(1950000, 8)"
      ]
     },
     "execution_count": 39,
     "metadata": {},
     "output_type": "execute_result"
    }
   ],
   "source": [
    "# Tamaño de la data\n",
    "df_Georgia.shape"
   ]
  },
  {
   "cell_type": "code",
   "execution_count": 40,
   "metadata": {},
   "outputs": [
    {
     "data": {
      "text/plain": [
       "user_id          0\n",
       "name             0\n",
       "time             0\n",
       "rating           0\n",
       "text        800503\n",
       "pics       1897161\n",
       "resp       1660958\n",
       "gmap_id          0\n",
       "dtype: int64"
      ]
     },
     "execution_count": 40,
     "metadata": {},
     "output_type": "execute_result"
    }
   ],
   "source": [
    "# Cantidad de nulos por columna\n",
    "df_Georgia.isnull().sum()"
   ]
  },
  {
   "cell_type": "code",
   "execution_count": 41,
   "metadata": {},
   "outputs": [],
   "source": [
    "# Borramos los valores nulos de text\n",
    "df_Georgia.dropna(subset='text',inplace=True)"
   ]
  },
  {
   "cell_type": "code",
   "execution_count": 42,
   "metadata": {},
   "outputs": [
    {
     "data": {
      "text/plain": [
       "np.int64(59253)"
      ]
     },
     "execution_count": 42,
     "metadata": {},
     "output_type": "execute_result"
    }
   ],
   "source": [
    "# Revision de duplucados\n",
    "\n",
    "df_Georgia.duplicated(subset=['name','user_id','text']).sum()"
   ]
  },
  {
   "cell_type": "code",
   "execution_count": 43,
   "metadata": {},
   "outputs": [],
   "source": [
    "#Cantidad Valoraciones\n",
    "\n",
    "valoraciones =df_Georgia['rating'].value_counts().sort_index()"
   ]
  },
  {
   "cell_type": "code",
   "execution_count": 44,
   "metadata": {},
   "outputs": [
    {
     "data": {
      "text/plain": [
       "rating\n",
       "1    106892\n",
       "2     43223\n",
       "3     78604\n",
       "4    170541\n",
       "5    750237\n",
       "Name: count, dtype: int64"
      ]
     },
     "execution_count": 44,
     "metadata": {},
     "output_type": "execute_result"
    }
   ],
   "source": [
    "valoraciones"
   ]
  },
  {
   "cell_type": "code",
   "execution_count": 45,
   "metadata": {},
   "outputs": [
    {
     "name": "stdout",
     "output_type": "stream",
     "text": [
      "Porcentaje 1:  9.299023833903004 %\n",
      "Porcentaje 2:  3.7601664032181037 %\n",
      "Porcentaje 3:  6.83812136960775 %\n",
      "Porcentaje 4:  14.83614137313973 %\n",
      "Porcentaje 5:  65.26654702013141 %\n"
     ]
    }
   ],
   "source": [
    "# porcentaje de raiting\n",
    "\n",
    "for i in range(1,6,1):\n",
    "    print(f\"Porcentaje {i}: \",(valoraciones[i]/df_Georgia.shape[0]) * 100,\"%\")"
   ]
  },
  {
   "cell_type": "code",
   "execution_count": 46,
   "metadata": {},
   "outputs": [
    {
     "name": "stdout",
     "output_type": "stream",
     "text": [
      "Data utlizable Georgia=  58.948564102564106 %\n"
     ]
    }
   ],
   "source": [
    "# porcentaje data utilizable\n",
    "\n",
    "data_utlizable = (df_Georgia.shape[0] / 1950000 ) * 100\n",
    "\n",
    "print(\"Data utlizable Georgia= \",data_utlizable,\"%\")\n"
   ]
  },
  {
   "cell_type": "markdown",
   "metadata": {},
   "source": [
    "### Analisis sentimientos Georgia"
   ]
  },
  {
   "cell_type": "code",
   "execution_count": 14,
   "metadata": {},
   "outputs": [],
   "source": [
    "from textblob import TextBlob\n",
    "\n",
    "def analyze_sentiment(text):\n",
    "    analysis = TextBlob(text)\n",
    "    if analysis.sentiment.polarity > 0:\n",
    "        return 'positivo'\n",
    "    elif analysis.sentiment.polarity == 0:\n",
    "        return 'neutro'\n",
    "    else:\n",
    "        return 'negativo'\n",
    "\n",
    "df_Georgia['sentimiento'] = df_Georgia['text'].apply(analyze_sentiment)\n",
    "\n",
    "# Contar la frecuencia de cada sentimiento\n",
    "sentiment_counts = df_Georgia['sentimiento'].value_counts()"
   ]
  },
  {
   "cell_type": "code",
   "execution_count": 15,
   "metadata": {},
   "outputs": [
    {
     "name": "stdout",
     "output_type": "stream",
     "text": [
      "positivo :  82.44727911425606\n",
      "negativo :  9.712770020278434\n",
      "neutro :  7.839950865465503\n"
     ]
    }
   ],
   "source": [
    "comentarios = 0\n",
    "\n",
    "for i in range(0,len(sentiment_counts),1):\n",
    "\n",
    "        print(f'{sentiment_counts.index[i]} : ',(sentiment_counts.iloc[i] / df_Georgia.shape[0] ) * 100 ) \n",
    "\n"
   ]
  },
  {
   "cell_type": "markdown",
   "metadata": {},
   "source": [
    "### Frecuencia palabra Georgia"
   ]
  },
  {
   "cell_type": "code",
   "execution_count": 47,
   "metadata": {},
   "outputs": [
    {
     "name": "stdout",
     "output_type": "stream",
     "text": [
      "[('great', 335594), ('service', 219835), ('good', 212716), ('food', 177828), ('place', 170788)]\n"
     ]
    }
   ],
   "source": [
    "from collections import Counter\n",
    "import re\n",
    "\n",
    "\n",
    "articulos = ['a','and','an','the','this','that','these','those','my','your','his','her','its','our','their','to','i','some','any','each','no','many',' ','was','is','for','of','they','in','it','you','with','have','are','very','on','me','but','not']\n",
    "\n",
    "# combinacion de la columna tex en un solo string\n",
    "\n",
    "text_combined = ' '.join(df_Georgia['text'])\n",
    "\n",
    "\n",
    "# Eliminar puntuación y convertir a minúsculas\n",
    "text_cleaned = re.sub(r'[^\\w\\s]', '', text_combined.lower())\n",
    "\n",
    "# Dividir la cadena en palabras\n",
    "words = text_cleaned.split()\n",
    "\n",
    "#Eliminar articulos\n",
    "text_filter = [word for word in words if word not in articulos]\n",
    "\n",
    "# Contar la frecuencia de cada palabra\n",
    "word_counts = Counter(text_filter)\n",
    "\n",
    "# Obtener las palabras más frecuentes\n",
    "most_common_words = word_counts.most_common(5)  # Cambia 5 por el número de palabras que quieres ver\n",
    "\n",
    "\n",
    "print(most_common_words)"
   ]
  },
  {
   "cell_type": "markdown",
   "metadata": {},
   "source": [
    "### Texas"
   ]
  },
  {
   "cell_type": "code",
   "execution_count": 4,
   "metadata": {},
   "outputs": [],
   "source": [
    "# Carga\n",
    "lista_df_Texas = []\n",
    "\n",
    "for i in range(1,17,1):\n",
    "   \n",
    "    lista_df_Texas.append(pd.read_json(f\"review-Texas/{i}.json\",lines=True))"
   ]
  },
  {
   "cell_type": "code",
   "execution_count": 5,
   "metadata": {},
   "outputs": [],
   "source": [
    "df_Texas = pd.DataFrame()"
   ]
  },
  {
   "cell_type": "code",
   "execution_count": 6,
   "metadata": {},
   "outputs": [],
   "source": [
    "\n",
    "df_Texas = pd.concat(lista_df_Texas,axis=0)"
   ]
  },
  {
   "cell_type": "code",
   "execution_count": 7,
   "metadata": {},
   "outputs": [
    {
     "data": {
      "text/html": [
       "<div>\n",
       "<style scoped>\n",
       "    .dataframe tbody tr th:only-of-type {\n",
       "        vertical-align: middle;\n",
       "    }\n",
       "\n",
       "    .dataframe tbody tr th {\n",
       "        vertical-align: top;\n",
       "    }\n",
       "\n",
       "    .dataframe thead th {\n",
       "        text-align: right;\n",
       "    }\n",
       "</style>\n",
       "<table border=\"1\" class=\"dataframe\">\n",
       "  <thead>\n",
       "    <tr style=\"text-align: right;\">\n",
       "      <th></th>\n",
       "      <th>user_id</th>\n",
       "      <th>name</th>\n",
       "      <th>time</th>\n",
       "      <th>rating</th>\n",
       "      <th>text</th>\n",
       "      <th>pics</th>\n",
       "      <th>resp</th>\n",
       "      <th>gmap_id</th>\n",
       "    </tr>\n",
       "  </thead>\n",
       "  <tbody>\n",
       "    <tr>\n",
       "      <th>0</th>\n",
       "      <td>1.105453e+20</td>\n",
       "      <td>Kimberly Feger</td>\n",
       "      <td>1625431734826</td>\n",
       "      <td>5</td>\n",
       "      <td>The pharmacist, Erin, is phenomenal. She was s...</td>\n",
       "      <td>None</td>\n",
       "      <td>None</td>\n",
       "      <td>0x864c3998b8d8dc83:0x57ffabe1e2322320</td>\n",
       "    </tr>\n",
       "    <tr>\n",
       "      <th>1</th>\n",
       "      <td>1.036198e+20</td>\n",
       "      <td>Briana Streit</td>\n",
       "      <td>1568336283913</td>\n",
       "      <td>2</td>\n",
       "      <td>I gave them 2 stars because they offer prescri...</td>\n",
       "      <td>None</td>\n",
       "      <td>None</td>\n",
       "      <td>0x864c3998b8d8dc83:0x57ffabe1e2322320</td>\n",
       "    </tr>\n",
       "    <tr>\n",
       "      <th>2</th>\n",
       "      <td>1.019167e+20</td>\n",
       "      <td>Sylvia Caudillo</td>\n",
       "      <td>1519873586872</td>\n",
       "      <td>1</td>\n",
       "      <td>If I could put minus stars I would. This has t...</td>\n",
       "      <td>None</td>\n",
       "      <td>None</td>\n",
       "      <td>0x864c3998b8d8dc83:0x57ffabe1e2322320</td>\n",
       "    </tr>\n",
       "    <tr>\n",
       "      <th>3</th>\n",
       "      <td>1.178709e+20</td>\n",
       "      <td>Ginger Kinyon</td>\n",
       "      <td>1571638384637</td>\n",
       "      <td>1</td>\n",
       "      <td>Please fix your restroom doors</td>\n",
       "      <td>None</td>\n",
       "      <td>None</td>\n",
       "      <td>0x864c3998b8d8dc83:0x57ffabe1e2322320</td>\n",
       "    </tr>\n",
       "    <tr>\n",
       "      <th>4</th>\n",
       "      <td>1.103973e+20</td>\n",
       "      <td>Angeles Arellano</td>\n",
       "      <td>1546568877087</td>\n",
       "      <td>1</td>\n",
       "      <td>This pharmacy Walmart dose not work not come a...</td>\n",
       "      <td>None</td>\n",
       "      <td>None</td>\n",
       "      <td>0x864c3998b8d8dc83:0x57ffabe1e2322320</td>\n",
       "    </tr>\n",
       "    <tr>\n",
       "      <th>...</th>\n",
       "      <td>...</td>\n",
       "      <td>...</td>\n",
       "      <td>...</td>\n",
       "      <td>...</td>\n",
       "      <td>...</td>\n",
       "      <td>...</td>\n",
       "      <td>...</td>\n",
       "      <td>...</td>\n",
       "    </tr>\n",
       "    <tr>\n",
       "      <th>46819</th>\n",
       "      <td>1.162897e+20</td>\n",
       "      <td>Alfredo Gonzalez</td>\n",
       "      <td>1539998441571</td>\n",
       "      <td>4</td>\n",
       "      <td>None</td>\n",
       "      <td>None</td>\n",
       "      <td>None</td>\n",
       "      <td>0x8705b6b8981c266d:0x5770fa9f1b6c0b1a</td>\n",
       "    </tr>\n",
       "    <tr>\n",
       "      <th>46820</th>\n",
       "      <td>1.059138e+20</td>\n",
       "      <td>Michael Claudio</td>\n",
       "      <td>1579034525104</td>\n",
       "      <td>5</td>\n",
       "      <td>None</td>\n",
       "      <td>None</td>\n",
       "      <td>None</td>\n",
       "      <td>0x8705b6b8981c266d:0x5770fa9f1b6c0b1a</td>\n",
       "    </tr>\n",
       "    <tr>\n",
       "      <th>46821</th>\n",
       "      <td>1.124842e+20</td>\n",
       "      <td>Juan Cruz</td>\n",
       "      <td>1558362918171</td>\n",
       "      <td>4</td>\n",
       "      <td>None</td>\n",
       "      <td>None</td>\n",
       "      <td>None</td>\n",
       "      <td>0x8705b6b8981c266d:0x5770fa9f1b6c0b1a</td>\n",
       "    </tr>\n",
       "    <tr>\n",
       "      <th>46822</th>\n",
       "      <td>1.174599e+20</td>\n",
       "      <td>Joel Rodriguez</td>\n",
       "      <td>1601477255399</td>\n",
       "      <td>5</td>\n",
       "      <td>None</td>\n",
       "      <td>None</td>\n",
       "      <td>None</td>\n",
       "      <td>0x8705b6b8981c266d:0x5770fa9f1b6c0b1a</td>\n",
       "    </tr>\n",
       "    <tr>\n",
       "      <th>46823</th>\n",
       "      <td>1.038504e+20</td>\n",
       "      <td>Rocky Barerra</td>\n",
       "      <td>1561698360190</td>\n",
       "      <td>5</td>\n",
       "      <td>None</td>\n",
       "      <td>None</td>\n",
       "      <td>None</td>\n",
       "      <td>0x8705b6b8981c266d:0x5770fa9f1b6c0b1a</td>\n",
       "    </tr>\n",
       "  </tbody>\n",
       "</table>\n",
       "<p>2296824 rows × 8 columns</p>\n",
       "</div>"
      ],
      "text/plain": [
       "            user_id              name           time  rating  \\\n",
       "0      1.105453e+20    Kimberly Feger  1625431734826       5   \n",
       "1      1.036198e+20     Briana Streit  1568336283913       2   \n",
       "2      1.019167e+20   Sylvia Caudillo  1519873586872       1   \n",
       "3      1.178709e+20     Ginger Kinyon  1571638384637       1   \n",
       "4      1.103973e+20  Angeles Arellano  1546568877087       1   \n",
       "...             ...               ...            ...     ...   \n",
       "46819  1.162897e+20  Alfredo Gonzalez  1539998441571       4   \n",
       "46820  1.059138e+20   Michael Claudio  1579034525104       5   \n",
       "46821  1.124842e+20         Juan Cruz  1558362918171       4   \n",
       "46822  1.174599e+20    Joel Rodriguez  1601477255399       5   \n",
       "46823  1.038504e+20     Rocky Barerra  1561698360190       5   \n",
       "\n",
       "                                                    text  pics  resp  \\\n",
       "0      The pharmacist, Erin, is phenomenal. She was s...  None  None   \n",
       "1      I gave them 2 stars because they offer prescri...  None  None   \n",
       "2      If I could put minus stars I would. This has t...  None  None   \n",
       "3                         Please fix your restroom doors  None  None   \n",
       "4      This pharmacy Walmart dose not work not come a...  None  None   \n",
       "...                                                  ...   ...   ...   \n",
       "46819                                               None  None  None   \n",
       "46820                                               None  None  None   \n",
       "46821                                               None  None  None   \n",
       "46822                                               None  None  None   \n",
       "46823                                               None  None  None   \n",
       "\n",
       "                                     gmap_id  \n",
       "0      0x864c3998b8d8dc83:0x57ffabe1e2322320  \n",
       "1      0x864c3998b8d8dc83:0x57ffabe1e2322320  \n",
       "2      0x864c3998b8d8dc83:0x57ffabe1e2322320  \n",
       "3      0x864c3998b8d8dc83:0x57ffabe1e2322320  \n",
       "4      0x864c3998b8d8dc83:0x57ffabe1e2322320  \n",
       "...                                      ...  \n",
       "46819  0x8705b6b8981c266d:0x5770fa9f1b6c0b1a  \n",
       "46820  0x8705b6b8981c266d:0x5770fa9f1b6c0b1a  \n",
       "46821  0x8705b6b8981c266d:0x5770fa9f1b6c0b1a  \n",
       "46822  0x8705b6b8981c266d:0x5770fa9f1b6c0b1a  \n",
       "46823  0x8705b6b8981c266d:0x5770fa9f1b6c0b1a  \n",
       "\n",
       "[2296824 rows x 8 columns]"
      ]
     },
     "execution_count": 7,
     "metadata": {},
     "output_type": "execute_result"
    }
   ],
   "source": [
    "df_Texas"
   ]
  },
  {
   "cell_type": "code",
   "execution_count": 8,
   "metadata": {},
   "outputs": [
    {
     "data": {
      "text/plain": [
       "(2296824, 8)"
      ]
     },
     "execution_count": 8,
     "metadata": {},
     "output_type": "execute_result"
    }
   ],
   "source": [
    "df_Texas.shape"
   ]
  },
  {
   "cell_type": "code",
   "execution_count": 9,
   "metadata": {},
   "outputs": [
    {
     "data": {
      "text/plain": [
       "user_id          0\n",
       "name             0\n",
       "time             0\n",
       "rating           0\n",
       "text        919209\n",
       "pics       2228515\n",
       "resp       1921986\n",
       "gmap_id          0\n",
       "dtype: int64"
      ]
     },
     "execution_count": 9,
     "metadata": {},
     "output_type": "execute_result"
    }
   ],
   "source": [
    "# Cantidad de nulos por columna\n",
    "df_Texas.isnull().sum()"
   ]
  },
  {
   "cell_type": "code",
   "execution_count": 10,
   "metadata": {},
   "outputs": [],
   "source": [
    "# Borramos los valores nulos de text\n",
    "df_Texas.dropna(subset='text',inplace=True)"
   ]
  },
  {
   "cell_type": "code",
   "execution_count": 11,
   "metadata": {},
   "outputs": [
    {
     "data": {
      "text/plain": [
       "np.int64(60298)"
      ]
     },
     "execution_count": 11,
     "metadata": {},
     "output_type": "execute_result"
    }
   ],
   "source": [
    "# Revision de duplucados\n",
    "\n",
    "df_Texas.duplicated(subset=['name','user_id','text']).sum()"
   ]
  },
  {
   "cell_type": "code",
   "execution_count": 12,
   "metadata": {},
   "outputs": [],
   "source": [
    "#Cantidad Valoraciones\n",
    "\n",
    "valoraciones_tx =df_Texas['rating'].value_counts().sort_index()"
   ]
  },
  {
   "cell_type": "code",
   "execution_count": 13,
   "metadata": {},
   "outputs": [
    {
     "data": {
      "text/plain": [
       "rating\n",
       "1    143328\n",
       "2     47213\n",
       "3     83285\n",
       "4    181816\n",
       "5    921973\n",
       "Name: count, dtype: int64"
      ]
     },
     "execution_count": 13,
     "metadata": {},
     "output_type": "execute_result"
    }
   ],
   "source": [
    "valoraciones_tx"
   ]
  },
  {
   "cell_type": "code",
   "execution_count": 14,
   "metadata": {},
   "outputs": [
    {
     "name": "stdout",
     "output_type": "stream",
     "text": [
      "Porcentaje 1:  10.404067899957536 %\n",
      "Porcentaje 2:  3.4271549017686365 %\n",
      "Porcentaje 3:  6.045593289852389 %\n",
      "Porcentaje 4:  13.19788184652461 %\n",
      "Porcentaje 5:  66.92530206189683 %\n"
     ]
    }
   ],
   "source": [
    "# porcentaje de raiting\n",
    "\n",
    "for i in range(1,6,1):\n",
    "    print(f\"Porcentaje {i}: \",(valoraciones_tx[i]/df_Texas.shape[0]) * 100,\"%\")"
   ]
  },
  {
   "cell_type": "code",
   "execution_count": 15,
   "metadata": {},
   "outputs": [
    {
     "name": "stdout",
     "output_type": "stream",
     "text": [
      "Data utlizable Texas=  59.97912769981505 %\n"
     ]
    }
   ],
   "source": [
    "# porcentaje data utilizable\n",
    "\n",
    "data_utlizable_tx = (df_Texas.shape[0] / 2296824 ) * 100\n",
    "\n",
    "print(\"Data utlizable Texas= \",data_utlizable_tx,\"%\")\n"
   ]
  },
  {
   "cell_type": "markdown",
   "metadata": {},
   "source": [
    "### Analisis sentimientos Texas"
   ]
  },
  {
   "cell_type": "code",
   "execution_count": 16,
   "metadata": {},
   "outputs": [],
   "source": [
    "from textblob import TextBlob\n",
    "\n",
    "def analyze_sentiment(text):\n",
    "    analysis = TextBlob(text)\n",
    "    if analysis.sentiment.polarity > 0:\n",
    "        return 'positivo'\n",
    "    elif analysis.sentiment.polarity == 0:\n",
    "        return 'neutro'\n",
    "    else:\n",
    "        return 'negativo'\n",
    "\n",
    "df_Texas['sentimiento'] = df_Texas['text'].apply(analyze_sentiment)\n",
    "\n",
    "# Contar la frecuencia de cada sentimiento\n",
    "sentiment_counts_tex = df_Texas['sentimiento'].value_counts()"
   ]
  },
  {
   "cell_type": "code",
   "execution_count": 18,
   "metadata": {},
   "outputs": [
    {
     "name": "stdout",
     "output_type": "stream",
     "text": [
      "positivo :  83.09135716437466\n",
      "negativo :  9.558693829553249\n",
      "neutro :  7.349949006072089\n"
     ]
    }
   ],
   "source": [
    "comentarios = 0\n",
    "\n",
    "for i in range(0,len(sentiment_counts_tex),1):\n",
    "\n",
    "        print(f'{sentiment_counts_tex.index[i]} : ',(sentiment_counts_tex.iloc[i] / df_Texas.shape[0] ) * 100 ) \n",
    "\n"
   ]
  },
  {
   "cell_type": "markdown",
   "metadata": {},
   "source": [
    "### Frecuencia palabras Texas"
   ]
  },
  {
   "cell_type": "code",
   "execution_count": 32,
   "metadata": {},
   "outputs": [
    {
     "name": "stdout",
     "output_type": "stream",
     "text": [
      "[('great', 387658), ('good', 267060), ('service', 259108), ('place', 235105), ('had', 188442)]\n"
     ]
    }
   ],
   "source": [
    "from collections import Counter\n",
    "import re\n",
    "\n",
    "\n",
    "articulos = ['a','and','an','the','this','that','these','those','my','your','his','her','its','our','their','to','i','some','any','each','no','many',' ','was','is','for','of','they','in','it','you','with','have','are','very','on','me','but','not']\n",
    "\n",
    "# combinacion de la columna tex en un solo string\n",
    "\n",
    "text_combined = ' '.join(df_Texas['text'])\n",
    "\n",
    "\n",
    "# Eliminar puntuación y convertir a minúsculas\n",
    "text_cleaned = re.sub(r'[^\\w\\s]', '', text_combined.lower())\n",
    "\n",
    "# Dividir la cadena en palabras\n",
    "words = text_cleaned.split()\n",
    "\n",
    "#Eliminar articulos\n",
    "text_filter = [word for word in words if word not in articulos]\n",
    "\n",
    "# Contar la frecuencia de cada palabra\n",
    "word_counts = Counter(text_filter)\n",
    "\n",
    "# Obtener las palabras más frecuentes\n",
    "most_common_words = word_counts.most_common(5)  # Cambia 5 por el número de palabras que quieres ver\n",
    "\n",
    "\n",
    "print(most_common_words)"
   ]
  },
  {
   "cell_type": "code",
   "execution_count": null,
   "metadata": {},
   "outputs": [],
   "source": []
  },
  {
   "cell_type": "code",
   "execution_count": null,
   "metadata": {},
   "outputs": [],
   "source": []
  },
  {
   "cell_type": "code",
   "execution_count": null,
   "metadata": {},
   "outputs": [],
   "source": []
  },
  {
   "cell_type": "code",
   "execution_count": null,
   "metadata": {},
   "outputs": [],
   "source": []
  },
  {
   "cell_type": "code",
   "execution_count": null,
   "metadata": {},
   "outputs": [],
   "source": []
  },
  {
   "cell_type": "code",
   "execution_count": null,
   "metadata": {},
   "outputs": [],
   "source": []
  },
  {
   "cell_type": "code",
   "execution_count": null,
   "metadata": {},
   "outputs": [],
   "source": []
  },
  {
   "cell_type": "code",
   "execution_count": null,
   "metadata": {},
   "outputs": [],
   "source": []
  },
  {
   "cell_type": "code",
   "execution_count": null,
   "metadata": {},
   "outputs": [],
   "source": []
  },
  {
   "cell_type": "code",
   "execution_count": null,
   "metadata": {},
   "outputs": [],
   "source": []
  },
  {
   "cell_type": "code",
   "execution_count": null,
   "metadata": {},
   "outputs": [],
   "source": []
  }
 ],
 "metadata": {
  "kernelspec": {
   "display_name": "Python 3",
   "language": "python",
   "name": "python3"
  },
  "language_info": {
   "codemirror_mode": {
    "name": "ipython",
    "version": 3
   },
   "file_extension": ".py",
   "mimetype": "text/x-python",
   "name": "python",
   "nbconvert_exporter": "python",
   "pygments_lexer": "ipython3",
   "version": "3.9.11"
  }
 },
 "nbformat": 4,
 "nbformat_minor": 2
}
