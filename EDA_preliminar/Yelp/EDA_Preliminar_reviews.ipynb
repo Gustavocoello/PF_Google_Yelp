{
 "cells": [
  {
   "cell_type": "code",
   "execution_count": 1,
   "metadata": {},
   "outputs": [],
   "source": [
    "import pandas as pd\n",
    "import json\n",
    "import os\n"
   ]
  },
  {
   "cell_type": "code",
   "execution_count": 1,
   "metadata": {},
   "outputs": [],
   "source": [
    "import json\n",
    "\n",
    "input_file = 'review.json'\n",
    "output_file = 'review_subset.json'\n",
    "lines_to_read = 100000  # Ajusta según tus necesidades\n",
    "\n",
    "with open(input_file, 'r') as infile, open(output_file, 'w') as outfile:\n",
    "    for i, line in enumerate(infile):\n",
    "        if i >= lines_to_read:\n",
    "            break\n",
    "        outfile.write(line)\n"
   ]
  },
  {
   "cell_type": "code",
   "execution_count": 2,
   "metadata": {},
   "outputs": [
    {
     "name": "stdout",
     "output_type": "stream",
     "text": [
      "                review_id                 user_id             business_id  \\\n",
      "0  KU_O5udG6zpxOg-VcAEodg  mh_-eMZ6K5RLWhZyISBhwA  XQfwVwDr-v0ZS3_CbbE5Xw   \n",
      "1  BiTunyQ73aT9WBnpR9DZGw  OyoGAe7OKpv6SyGZT5g77Q  7ATYjTIgM3jUlt4UM3IypQ   \n",
      "2  saUsX_uimxRlCVr67Z4Jig  8g_iMtfSiwikVnbP2etR0A  YjUWPpI6HXG530lwP-fb2A   \n",
      "3  AqPFMleE6RsU23_auESxiA  _7bHUi9Uuf5__HHc_Q8guQ  kxX2SOes4o-D3ZQBkiMRfA   \n",
      "4  Sx8TMOWLNuJBWer-0pcmoA  bcjbaE6dDog4jkNY91ncLQ  e4Vwtrqf-wpJfwesgvdgxQ   \n",
      "\n",
      "   stars  useful  funny  cool  \\\n",
      "0      3       0      0     0   \n",
      "1      5       1      0     1   \n",
      "2      3       0      0     0   \n",
      "3      5       1      0     1   \n",
      "4      4       1      0     1   \n",
      "\n",
      "                                                text                date  \n",
      "0  If you decide to eat here, just be aware it is... 2018-07-07 22:09:11  \n",
      "1  I've taken a lot of spin classes over the year... 2012-01-03 15:28:18  \n",
      "2  Family diner. Had the buffet. Eclectic assortm... 2014-02-05 20:30:30  \n",
      "3  Wow!  Yummy, different,  delicious.   Our favo... 2015-01-04 00:01:03  \n",
      "4  Cute interior and owner (?) gave us tour of up... 2017-01-14 20:54:15  \n",
      "<class 'pandas.core.frame.DataFrame'>\n",
      "RangeIndex: 100000 entries, 0 to 99999\n",
      "Data columns (total 9 columns):\n",
      " #   Column       Non-Null Count   Dtype         \n",
      "---  ------       --------------   -----         \n",
      " 0   review_id    100000 non-null  object        \n",
      " 1   user_id      100000 non-null  object        \n",
      " 2   business_id  100000 non-null  object        \n",
      " 3   stars        100000 non-null  int64         \n",
      " 4   useful       100000 non-null  int64         \n",
      " 5   funny        100000 non-null  int64         \n",
      " 6   cool         100000 non-null  int64         \n",
      " 7   text         100000 non-null  object        \n",
      " 8   date         100000 non-null  datetime64[ns]\n",
      "dtypes: datetime64[ns](1), int64(4), object(4)\n",
      "memory usage: 6.9+ MB\n",
      "None\n"
     ]
    }
   ],
   "source": [
    "import pandas as pd\n",
    "\n",
    "# Leer el archivo JSON con pandas\n",
    "df = pd.read_json('review_subset.json', lines=True)\n",
    "\n",
    "# Mostrar las primeras filas del DataFrame\n",
    "print(df.head())\n",
    "\n",
    "# Obtener la información del DataFrame\n",
    "print(df.info())\n"
   ]
  },
  {
   "cell_type": "code",
   "execution_count": 3,
   "metadata": {},
   "outputs": [
    {
     "name": "stdout",
     "output_type": "stream",
     "text": [
      "Columnas disponibles en el DataFrame:\n",
      "['review_id', 'user_id', 'business_id', 'stars', 'useful', 'funny', 'cool', 'text', 'date']\n"
     ]
    }
   ],
   "source": [
    "import pandas as pd\n",
    "\n",
    "# Leer el archivo JSON con pandas\n",
    "df = pd.read_json('review_subset.json', lines=True)\n",
    "\n",
    "# Listar las columnas del DataFrame\n",
    "print(\"Columnas disponibles en el DataFrame:\")\n",
    "print(df.columns.tolist())\n"
   ]
  },
  {
   "cell_type": "code",
   "execution_count": 5,
   "metadata": {},
   "outputs": [
    {
     "name": "stdout",
     "output_type": "stream",
     "text": [
      "La muestra aleatoria ha sido exportada a 'sample_subset.csv'.\n"
     ]
    }
   ],
   "source": [
    "# Tomar una muestra aleatoria de 20 registros\n",
    "sample_df = df.sample(n=20, random_state=1)  # random_state asegura la reproducibilidad\n",
    "\n",
    "# Exportar la muestra a un archivo CSV\n",
    "sample_df.to_csv('sample_subset.csv', index=False)\n",
    "\n",
    "print(\"La muestra aleatoria ha sido exportada a 'sample_subset.csv'.\")\n"
   ]
  },
  {
   "cell_type": "code",
   "execution_count": 6,
   "metadata": {},
   "outputs": [
    {
     "name": "stdout",
     "output_type": "stream",
     "text": [
      "DataFrame 1 - Número de filas: 1398056\n",
      "DataFrame 2 - Número de filas: 1398056\n",
      "DataFrame 3 - Número de filas: 1398056\n",
      "DataFrame 4 - Número de filas: 1398056\n",
      "DataFrame 5 - Número de filas: 1398056\n"
     ]
    }
   ],
   "source": [
    "import pandas as pd\n",
    "\n",
    "# Ruta del archivo\n",
    "file_path = 'review.json'\n",
    "\n",
    "# Paso 1: Determinar el número total de líneas\n",
    "total_lines = sum(1 for _ in open(file_path, 'r'))\n",
    "\n",
    "# Determinar el número de líneas por chunk (dividiendo en 5 partes)\n",
    "lines_per_chunk = total_lines // 5\n",
    "\n",
    "# Paso 2: Leer el archivo en chunks\n",
    "chunk_size = lines_per_chunk  # Número de líneas por cada chunk\n",
    "\n",
    "# Lista para almacenar los 5 DataFrames\n",
    "dfs = []\n",
    "\n",
    "# Leer en chunks y almacenar en la lista de DataFrames\n",
    "for chunk in pd.read_json(file_path, lines=True, chunksize=chunk_size):\n",
    "    dfs.append(chunk)\n",
    "    \n",
    "    # Para asegurar que sólo tenemos 5 DataFrames\n",
    "    if len(dfs) == 5:\n",
    "        break\n",
    "\n",
    "# Paso 3: Verificar los DataFrames\n",
    "for i, df in enumerate(dfs):\n",
    "    print(f\"DataFrame {i+1} - Número de filas: {len(df)}\")\n"
   ]
  },
  {
   "cell_type": "code",
   "execution_count": 7,
   "metadata": {},
   "outputs": [
    {
     "name": "stdout",
     "output_type": "stream",
     "text": [
      "<class 'pandas.core.frame.DataFrame'>\n",
      "RangeIndex: 1398056 entries, 0 to 1398055\n",
      "Data columns (total 9 columns):\n",
      " #   Column       Non-Null Count    Dtype         \n",
      "---  ------       --------------    -----         \n",
      " 0   review_id    1398056 non-null  object        \n",
      " 1   user_id      1398056 non-null  object        \n",
      " 2   business_id  1398056 non-null  object        \n",
      " 3   stars        1398056 non-null  int64         \n",
      " 4   useful       1398056 non-null  int64         \n",
      " 5   funny        1398056 non-null  int64         \n",
      " 6   cool         1398056 non-null  int64         \n",
      " 7   text         1398056 non-null  object        \n",
      " 8   date         1398056 non-null  datetime64[ns]\n",
      "dtypes: datetime64[ns](1), int64(4), object(4)\n",
      "memory usage: 96.0+ MB\n",
      "                review_id                 user_id             business_id  \\\n",
      "0  KU_O5udG6zpxOg-VcAEodg  mh_-eMZ6K5RLWhZyISBhwA  XQfwVwDr-v0ZS3_CbbE5Xw   \n",
      "1  BiTunyQ73aT9WBnpR9DZGw  OyoGAe7OKpv6SyGZT5g77Q  7ATYjTIgM3jUlt4UM3IypQ   \n",
      "2  saUsX_uimxRlCVr67Z4Jig  8g_iMtfSiwikVnbP2etR0A  YjUWPpI6HXG530lwP-fb2A   \n",
      "3  AqPFMleE6RsU23_auESxiA  _7bHUi9Uuf5__HHc_Q8guQ  kxX2SOes4o-D3ZQBkiMRfA   \n",
      "4  Sx8TMOWLNuJBWer-0pcmoA  bcjbaE6dDog4jkNY91ncLQ  e4Vwtrqf-wpJfwesgvdgxQ   \n",
      "\n",
      "   stars  useful  funny  cool  \\\n",
      "0      3       0      0     0   \n",
      "1      5       1      0     1   \n",
      "2      3       0      0     0   \n",
      "3      5       1      0     1   \n",
      "4      4       1      0     1   \n",
      "\n",
      "                                                text                date  \n",
      "0  If you decide to eat here, just be aware it is... 2018-07-07 22:09:11  \n",
      "1  I've taken a lot of spin classes over the year... 2012-01-03 15:28:18  \n",
      "2  Family diner. Had the buffet. Eclectic assortm... 2014-02-05 20:30:30  \n",
      "3  Wow!  Yummy, different,  delicious.   Our favo... 2015-01-04 00:01:03  \n",
      "4  Cute interior and owner (?) gave us tour of up... 2017-01-14 20:54:15  \n",
      "              stars        useful         funny          cool  \\\n",
      "count  1.398056e+06  1.398056e+06  1.398056e+06  1.398056e+06   \n",
      "mean   3.763764e+00  1.173645e+00  3.238618e-01  4.949408e-01   \n",
      "min    1.000000e+00  0.000000e+00  0.000000e+00  0.000000e+00   \n",
      "25%    3.000000e+00  0.000000e+00  0.000000e+00  0.000000e+00   \n",
      "50%    4.000000e+00  0.000000e+00  0.000000e+00  0.000000e+00   \n",
      "75%    5.000000e+00  1.000000e+00  0.000000e+00  0.000000e+00   \n",
      "max    5.000000e+00  5.390000e+02  2.840000e+02  2.010000e+02   \n",
      "std    1.469479e+00  2.980648e+00  1.497647e+00  2.004274e+00   \n",
      "\n",
      "                                date  \n",
      "count                        1398056  \n",
      "mean   2016-12-26 08:42:40.688408832  \n",
      "min              2005-03-01 17:47:15  \n",
      "25%    2015-01-08 00:26:30.750000128  \n",
      "50%       2017-05-21 01:00:28.500000  \n",
      "75%    2019-05-07 22:26:33.249999872  \n",
      "max              2022-01-19 19:47:59  \n",
      "std                              NaN  \n"
     ]
    }
   ],
   "source": [
    "# DataFrame 1\n",
    "df1 = dfs[0]\n",
    "\n",
    "# Ver la información general del DataFrame 1\n",
    "df1.info()\n",
    "\n",
    "# Mostrar las primeras 5 filas del DataFrame 1\n",
    "print(df1.head())\n",
    "\n",
    "# Mostrar estadísticas descriptivas del DataFrame 1\n",
    "print(df1.describe())\n"
   ]
  },
  {
   "cell_type": "code",
   "execution_count": 11,
   "metadata": {},
   "outputs": [
    {
     "name": "stdout",
     "output_type": "stream",
     "text": [
      "Cantidad de registros totales: 1398056\n",
      "Cantidad de registros después de omitir nulos: 1398056\n",
      "Cantidad de valores nulos en la columna 'text': 0\n",
      "Cantidad de registros duplicados basados en 'review_id': 0\n"
     ]
    }
   ],
   "source": [
    "# Verificar la cantidad de registros totales antes de eliminar nulos\n",
    "total_records = len(df1)\n",
    "print(f\"Cantidad de registros totales: {total_records}\")\n",
    "\n",
    "# Eliminar los registros que tengan valores nulos en 'column', 'stars', o 'business_id'\n",
    "df1_cleaned = df1.dropna(subset=['stars', 'business_id'])\n",
    "\n",
    "# Verificar la cantidad de registros después de eliminar nulos\n",
    "cleaned_records = len(df1_cleaned)\n",
    "print(f\"Cantidad de registros después de omitir nulos: {cleaned_records}\")\n",
    "\n",
    "# Contar la cantidad de valores nulos en la columna 'text'\n",
    "null_text_count = df1['text'].isna().sum()\n",
    "print(f\"Cantidad de valores nulos en la columna 'text': {null_text_count}\")\n",
    "\n",
    "# Contar la cantidad de duplicados basados en 'review_id'\n",
    "duplicate_count = df1_cleaned.duplicated(subset=['review_id']).sum()\n",
    "print(f\"Cantidad de registros duplicados basados en 'review_id': {duplicate_count}\")\n"
   ]
  },
  {
   "cell_type": "code",
   "execution_count": 14,
   "metadata": {},
   "outputs": [
    {
     "name": "stdout",
     "output_type": "stream",
     "text": [
      "DataFrame  Total Registros      Registros Limpiados  Nulos en Texto  Duplicados     \n",
      "================================================================================\n",
      "df1     1398056              1398056              0               0              \n",
      "df2     1398056              1398056              0               0              \n",
      "df3     1398056              1398056              0               0              \n",
      "df4     1398056              1398056              0               0              \n",
      "df5     1398056              1398056              0               0              \n",
      "================================================================================\n",
      "Total      6990280              6990280              0               0              \n",
      "\n",
      "Porcentaje de nulos en texto: 0.00%\n",
      "Porcentaje de duplicados: 0.00%\n",
      "\n",
      "Conteo de 'stars':\n",
      "1 estrellas: 1069561 (15.30%)\n",
      "2 estrellas: 544240 (7.79%)\n",
      "3 estrellas: 691934 (9.90%)\n",
      "4 estrellas: 1452918 (20.78%)\n",
      "5 estrellas: 3231627 (46.23%)\n",
      "\n",
      "Total 'useful': 3149784 (45.06%)\n",
      "Total 'funny': 1096161 (15.68%)\n",
      "Total 'cool': 1612315 (23.07%)\n"
     ]
    }
   ],
   "source": [
    "df1 = dfs[0]\n",
    "df2 = dfs[1]\n",
    "df3 = dfs[2]\n",
    "df4 = dfs[3]\n",
    "df5 = dfs[4]\n",
    "\n",
    "dfs = [df1, df2, df3, df4, df5]\n",
    "\n",
    "# Variables para acumular totales\n",
    "total_records_all = 0\n",
    "total_records_cleaned_all = 0\n",
    "total_null_text_count_all = 0\n",
    "total_duplicates_count_all = 0\n",
    "\n",
    "# Inicializar contadores para 'stars'\n",
    "stars_count_all = {1: 0, 2: 0, 3: 0, 4: 0, 5: 0}\n",
    "\n",
    "# Inicializar contadores para 'useful', 'funny', 'cool'\n",
    "useful_count_all = 0\n",
    "funny_count_all = 0\n",
    "cool_count_all = 0\n",
    "\n",
    "# Imprimir encabezados\n",
    "print(f\"{'DataFrame':<10} {'Total Registros':<20} {'Registros Limpiados':<20} {'Nulos en Texto':<15} {'Duplicados':<15}\")\n",
    "print(\"=\"*80)\n",
    "\n",
    "# Procesar cada DataFrame\n",
    "for i, df in enumerate(dfs, start=1):\n",
    "    # Verificar la cantidad de registros totales antes de eliminar nulos\n",
    "    total_records = len(df)\n",
    "    total_records_all += total_records\n",
    "    \n",
    "    # Eliminar los registros que tengan valores nulos en 'stars' o 'business_id'\n",
    "    df_cleaned = df.dropna(subset=['stars', 'business_id'])\n",
    "    \n",
    "    # Verificar la cantidad de registros después de eliminar nulos\n",
    "    cleaned_records = len(df_cleaned)\n",
    "    total_records_cleaned_all += cleaned_records\n",
    "    \n",
    "    # Contar la cantidad de valores nulos en la columna 'text'\n",
    "    null_text_count = df['text'].isna().sum()\n",
    "    total_null_text_count_all += null_text_count\n",
    "    \n",
    "    # Contar la cantidad de duplicados basados en 'review_id'\n",
    "    duplicate_count = df_cleaned.duplicated(subset=['review_id']).sum()\n",
    "    total_duplicates_count_all += duplicate_count\n",
    "    \n",
    "    # Contar la cantidad de cada valor de 'stars'\n",
    "    stars_count = df_cleaned['stars'].value_counts().to_dict()\n",
    "    for star in range(1, 6):\n",
    "        stars_count_all[star] += stars_count.get(star, 0)\n",
    "    \n",
    "    # Contar la cantidad de valores positivos en 'useful', 'funny', 'cool'\n",
    "    useful_count = df_cleaned['useful'].gt(0).sum()\n",
    "    funny_count = df_cleaned['funny'].gt(0).sum()\n",
    "    cool_count = df_cleaned['cool'].gt(0).sum()\n",
    "    \n",
    "    useful_count_all += useful_count\n",
    "    funny_count_all += funny_count\n",
    "    cool_count_all += cool_count\n",
    "    \n",
    "    # Imprimir resultados para el DataFrame actual\n",
    "    print(f\"df{i:<5} {total_records:<20} {cleaned_records:<20} {null_text_count:<15} {duplicate_count:<15}\")\n",
    "\n",
    "# Imprimir totales\n",
    "print(\"=\"*80)\n",
    "print(f\"{'Total':<10} {total_records_all:<20} {total_records_cleaned_all:<20} {total_null_text_count_all:<15} {total_duplicates_count_all:<15}\")\n",
    "\n",
    "# Calcular y imprimir porcentajes\n",
    "percentage_null_text = (total_null_text_count_all / total_records_all) * 100 if total_records_all > 0 else 0\n",
    "percentage_duplicates = (total_duplicates_count_all / total_records_cleaned_all) * 100 if total_records_cleaned_all > 0 else 0\n",
    "\n",
    "print(f\"\\nPorcentaje de nulos en texto: {percentage_null_text:.2f}%\")\n",
    "print(f\"Porcentaje de duplicados: {percentage_duplicates:.2f}%\")\n",
    "\n",
    "# Imprimir conteo de 'stars'\n",
    "print(\"\\nConteo de 'stars':\")\n",
    "for star, count in stars_count_all.items():\n",
    "    percentage_stars = (count / total_records_cleaned_all) * 100 if total_records_cleaned_all > 0 else 0\n",
    "    print(f\"{star} estrellas: {count} ({percentage_stars:.2f}%)\")\n",
    "\n",
    "# Imprimir conteo de 'useful', 'funny', 'cool'\n",
    "percentage_useful = (useful_count_all / total_records_cleaned_all) * 100 if total_records_cleaned_all > 0 else 0\n",
    "percentage_funny = (funny_count_all / total_records_cleaned_all) * 100 if total_records_cleaned_all > 0 else 0\n",
    "percentage_cool = (cool_count_all / total_records_cleaned_all) * 100 if total_records_cleaned_all > 0 else 0\n",
    "\n",
    "print(f\"\\nTotal 'useful': {useful_count_all} ({percentage_useful:.2f}%)\")\n",
    "print(f\"Total 'funny': {funny_count_all} ({percentage_funny:.2f}%)\")\n",
    "print(f\"Total 'cool': {cool_count_all} ({percentage_cool:.2f}%)\")\n"
   ]
  }
 ],
 "metadata": {
  "kernelspec": {
   "display_name": "Python 3",
   "language": "python",
   "name": "python3"
  },
  "language_info": {
   "codemirror_mode": {
    "name": "ipython",
    "version": 3
   },
   "file_extension": ".py",
   "mimetype": "text/x-python",
   "name": "python",
   "nbconvert_exporter": "python",
   "pygments_lexer": "ipython3",
   "version": "3.10.12"
  }
 },
 "nbformat": 4,
 "nbformat_minor": 2
}
