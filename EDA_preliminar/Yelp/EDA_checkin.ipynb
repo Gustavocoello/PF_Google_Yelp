{
 "cells": [
  {
   "cell_type": "markdown",
   "metadata": {},
   "source": [
    "## Archivo Yelp - Checkin.json"
   ]
  },
  {
   "cell_type": "code",
   "execution_count": 7,
   "metadata": {},
   "outputs": [],
   "source": [
    "# Traemos las librerias\n",
    "import pandas as pd \n",
    "import numpy as np \n",
    "import matplotlib.pyplot as plt\n",
    "import seaborn as sns\n",
    "import json \n",
    "import warnings\n",
    "warnings.filterwarnings('ignore')"
   ]
  },
  {
   "cell_type": "code",
   "execution_count": 4,
   "metadata": {},
   "outputs": [],
   "source": [
    "# traemos la data \n",
    "data = \"D:\\Documentos\\Courses\\Henry\\Henry Students\\Labs\\Cohorte 09\\PF_Google_Yelp\\EDA_preliminar\\Google_Maps\\Data\\checkin.json\""
   ]
  },
  {
   "cell_type": "code",
   "execution_count": 8,
   "metadata": {},
   "outputs": [],
   "source": [
    "def abrir_json(ruta):\n",
    "    datos =[]\n",
    "    with open(ruta, \"r\") as file:\n",
    "        lines = file.readlines()\n",
    "        for line in lines:\n",
    "            try:\n",
    "                data = json.loads(line)\n",
    "                datos.append(data)\n",
    "            except json.JSONDecodeError:\n",
    "                print(\"linea invalida\", line)\n",
    "    # Convertir la lista de datos a un DataFrame\n",
    "    df = pd.DataFrame(datos)\n",
    "    return df "
   ]
  },
  {
   "cell_type": "code",
   "execution_count": 9,
   "metadata": {},
   "outputs": [
    {
     "data": {
      "text/html": [
       "<div>\n",
       "<style scoped>\n",
       "    .dataframe tbody tr th:only-of-type {\n",
       "        vertical-align: middle;\n",
       "    }\n",
       "\n",
       "    .dataframe tbody tr th {\n",
       "        vertical-align: top;\n",
       "    }\n",
       "\n",
       "    .dataframe thead th {\n",
       "        text-align: right;\n",
       "    }\n",
       "</style>\n",
       "<table border=\"1\" class=\"dataframe\">\n",
       "  <thead>\n",
       "    <tr style=\"text-align: right;\">\n",
       "      <th></th>\n",
       "      <th>business_id</th>\n",
       "      <th>date</th>\n",
       "    </tr>\n",
       "  </thead>\n",
       "  <tbody>\n",
       "    <tr>\n",
       "      <th>0</th>\n",
       "      <td>---kPU91CF4Lq2-WlRu9Lw</td>\n",
       "      <td>2020-03-13 21:10:56, 2020-06-02 22:18:06, 2020...</td>\n",
       "    </tr>\n",
       "    <tr>\n",
       "      <th>1</th>\n",
       "      <td>--0iUa4sNDFiZFrAdIWhZQ</td>\n",
       "      <td>2010-09-13 21:43:09, 2011-05-04 23:08:15, 2011...</td>\n",
       "    </tr>\n",
       "    <tr>\n",
       "      <th>2</th>\n",
       "      <td>--30_8IhuyMHbSOcNWd6DQ</td>\n",
       "      <td>2013-06-14 23:29:17, 2014-08-13 23:20:22</td>\n",
       "    </tr>\n",
       "    <tr>\n",
       "      <th>3</th>\n",
       "      <td>--7PUidqRWpRSpXebiyxTg</td>\n",
       "      <td>2011-02-15 17:12:00, 2011-07-28 02:46:10, 2012...</td>\n",
       "    </tr>\n",
       "    <tr>\n",
       "      <th>4</th>\n",
       "      <td>--7jw19RH9JKXgFohspgQw</td>\n",
       "      <td>2014-04-21 20:42:11, 2014-04-28 21:04:46, 2014...</td>\n",
       "    </tr>\n",
       "    <tr>\n",
       "      <th>...</th>\n",
       "      <td>...</td>\n",
       "      <td>...</td>\n",
       "    </tr>\n",
       "    <tr>\n",
       "      <th>131925</th>\n",
       "      <td>zznJox6-nmXlGYNWgTDwQQ</td>\n",
       "      <td>2013-03-23 16:22:47, 2013-04-07 02:03:12, 2013...</td>\n",
       "    </tr>\n",
       "    <tr>\n",
       "      <th>131926</th>\n",
       "      <td>zznZqH9CiAznbkV6fXyHWA</td>\n",
       "      <td>2021-06-12 01:16:12</td>\n",
       "    </tr>\n",
       "    <tr>\n",
       "      <th>131927</th>\n",
       "      <td>zzu6_r3DxBJuXcjnOYVdTw</td>\n",
       "      <td>2011-05-24 01:35:13, 2012-01-01 23:44:33, 2012...</td>\n",
       "    </tr>\n",
       "    <tr>\n",
       "      <th>131928</th>\n",
       "      <td>zzw66H6hVjXQEt0Js3Mo4A</td>\n",
       "      <td>2016-12-03 23:33:26, 2018-12-02 19:08:45</td>\n",
       "    </tr>\n",
       "    <tr>\n",
       "      <th>131929</th>\n",
       "      <td>zzyx5x0Z7xXWWvWnZFuxlQ</td>\n",
       "      <td>2015-01-06 17:51:53</td>\n",
       "    </tr>\n",
       "  </tbody>\n",
       "</table>\n",
       "<p>131930 rows × 2 columns</p>\n",
       "</div>"
      ],
      "text/plain": [
       "                   business_id  \\\n",
       "0       ---kPU91CF4Lq2-WlRu9Lw   \n",
       "1       --0iUa4sNDFiZFrAdIWhZQ   \n",
       "2       --30_8IhuyMHbSOcNWd6DQ   \n",
       "3       --7PUidqRWpRSpXebiyxTg   \n",
       "4       --7jw19RH9JKXgFohspgQw   \n",
       "...                        ...   \n",
       "131925  zznJox6-nmXlGYNWgTDwQQ   \n",
       "131926  zznZqH9CiAznbkV6fXyHWA   \n",
       "131927  zzu6_r3DxBJuXcjnOYVdTw   \n",
       "131928  zzw66H6hVjXQEt0Js3Mo4A   \n",
       "131929  zzyx5x0Z7xXWWvWnZFuxlQ   \n",
       "\n",
       "                                                     date  \n",
       "0       2020-03-13 21:10:56, 2020-06-02 22:18:06, 2020...  \n",
       "1       2010-09-13 21:43:09, 2011-05-04 23:08:15, 2011...  \n",
       "2                2013-06-14 23:29:17, 2014-08-13 23:20:22  \n",
       "3       2011-02-15 17:12:00, 2011-07-28 02:46:10, 2012...  \n",
       "4       2014-04-21 20:42:11, 2014-04-28 21:04:46, 2014...  \n",
       "...                                                   ...  \n",
       "131925  2013-03-23 16:22:47, 2013-04-07 02:03:12, 2013...  \n",
       "131926                                2021-06-12 01:16:12  \n",
       "131927  2011-05-24 01:35:13, 2012-01-01 23:44:33, 2012...  \n",
       "131928           2016-12-03 23:33:26, 2018-12-02 19:08:45  \n",
       "131929                                2015-01-06 17:51:53  \n",
       "\n",
       "[131930 rows x 2 columns]"
      ]
     },
     "execution_count": 9,
     "metadata": {},
     "output_type": "execute_result"
    }
   ],
   "source": [
    "abrir_json(\"D:\\Documentos\\Courses\\Henry\\Henry Students\\Labs\\Cohorte 09\\PF_Google_Yelp\\EDA_preliminar\\Google_Maps\\Data\\checkin.json\")"
   ]
  },
  {
   "cell_type": "code",
   "execution_count": 11,
   "metadata": {},
   "outputs": [],
   "source": [
    "# vamos a crear funciones para saber cuantos duplicados, faltantes tenemos en los conjuntos de datos\n",
    "def null(df, decimales=2):\n",
    "    # cantidad de null + % \n",
    "    df_nulos = pd.DataFrame({\n",
    "        \"Numeros de nulos\" : df.isnull().sum(),\n",
    "        \"Porcentaje de nulos\" : (df.isnull().sum() / df.shape[0]) * 100.0 # # Calcula el porcentaje de valores faltantes en la columna\n",
    "    })\n",
    "    # Convierte el porcentaje a cadena y añade el símbolo de porcentaje\n",
    "    df_nulos['Porcentaje de nulos'] = df_nulos['Porcentaje de nulos'].round(decimales).astype(str) + \"%\"\n",
    "    return df_nulos\n",
    "\n",
    "\n",
    "def suma_duplicados(df, decimales=2):\n",
    "    # Identifica las filas duplicadas\n",
    "    duplicados = df[df.duplicated()]\n",
    "    \n",
    "    # Inicializa diccionarios para almacenar los resultados\n",
    "    num_duplicados = {}\n",
    "    porcentaje_duplicados = {}\n",
    "    \n",
    "    for col in df.columns:\n",
    "        # Cuenta el número de duplicados en la columna\n",
    "        num_duplicados[col] = duplicados[col].count()\n",
    "        \n",
    "        # Calcula el porcentaje de duplicados en la columna\n",
    "        porcentaje_duplicados[col] = (num_duplicados[col] / df.shape[0]) * 100.0\n",
    "    \n",
    "    # Crea un DataFrame para los resultados\n",
    "    df_duplicados = pd.DataFrame({\n",
    "        \"Numero de Duplicados\": pd.Series(num_duplicados),\n",
    "        \"Porcentaje de Duplicados\": pd.Series(porcentaje_duplicados)\n",
    "    })\n",
    "    \n",
    "    # Convierte el porcentaje a cadena y añade el símbolo de porcentaje\n",
    "    df_duplicados[\"Porcentaje de Duplicados\"] = df_duplicados[\"Porcentaje de Duplicados\"].round(decimales).astype(str) + \"%\"\n",
    "        \n",
    "    return df_duplicados"
   ]
  },
  {
   "cell_type": "code",
   "execution_count": 14,
   "metadata": {},
   "outputs": [
    {
     "data": {
      "text/html": [
       "<div>\n",
       "<style scoped>\n",
       "    .dataframe tbody tr th:only-of-type {\n",
       "        vertical-align: middle;\n",
       "    }\n",
       "\n",
       "    .dataframe tbody tr th {\n",
       "        vertical-align: top;\n",
       "    }\n",
       "\n",
       "    .dataframe thead th {\n",
       "        text-align: right;\n",
       "    }\n",
       "</style>\n",
       "<table border=\"1\" class=\"dataframe\">\n",
       "  <thead>\n",
       "    <tr style=\"text-align: right;\">\n",
       "      <th></th>\n",
       "      <th>Numeros de nulos</th>\n",
       "      <th>Porcentaje de nulos</th>\n",
       "    </tr>\n",
       "  </thead>\n",
       "  <tbody>\n",
       "    <tr>\n",
       "      <th>business_id</th>\n",
       "      <td>0</td>\n",
       "      <td>0.0%</td>\n",
       "    </tr>\n",
       "    <tr>\n",
       "      <th>date</th>\n",
       "      <td>0</td>\n",
       "      <td>0.0%</td>\n",
       "    </tr>\n",
       "  </tbody>\n",
       "</table>\n",
       "</div>"
      ],
      "text/plain": [
       "             Numeros de nulos Porcentaje de nulos\n",
       "business_id                 0                0.0%\n",
       "date                        0                0.0%"
      ]
     },
     "execution_count": 14,
     "metadata": {},
     "output_type": "execute_result"
    }
   ],
   "source": [
    "null(df)"
   ]
  },
  {
   "cell_type": "code",
   "execution_count": 15,
   "metadata": {},
   "outputs": [
    {
     "data": {
      "text/html": [
       "<div>\n",
       "<style scoped>\n",
       "    .dataframe tbody tr th:only-of-type {\n",
       "        vertical-align: middle;\n",
       "    }\n",
       "\n",
       "    .dataframe tbody tr th {\n",
       "        vertical-align: top;\n",
       "    }\n",
       "\n",
       "    .dataframe thead th {\n",
       "        text-align: right;\n",
       "    }\n",
       "</style>\n",
       "<table border=\"1\" class=\"dataframe\">\n",
       "  <thead>\n",
       "    <tr style=\"text-align: right;\">\n",
       "      <th></th>\n",
       "      <th>Numero de Duplicados</th>\n",
       "      <th>Porcentaje de Duplicados</th>\n",
       "    </tr>\n",
       "  </thead>\n",
       "  <tbody>\n",
       "    <tr>\n",
       "      <th>business_id</th>\n",
       "      <td>0</td>\n",
       "      <td>0.0%</td>\n",
       "    </tr>\n",
       "    <tr>\n",
       "      <th>date</th>\n",
       "      <td>0</td>\n",
       "      <td>0.0%</td>\n",
       "    </tr>\n",
       "  </tbody>\n",
       "</table>\n",
       "</div>"
      ],
      "text/plain": [
       "             Numero de Duplicados Porcentaje de Duplicados\n",
       "business_id                     0                     0.0%\n",
       "date                            0                     0.0%"
      ]
     },
     "execution_count": 15,
     "metadata": {},
     "output_type": "execute_result"
    }
   ],
   "source": [
    "suma_duplicados(df)"
   ]
  },
  {
   "cell_type": "code",
   "execution_count": null,
   "metadata": {},
   "outputs": [],
   "source": []
  }
 ],
 "metadata": {
  "kernelspec": {
   "display_name": "Python 3",
   "language": "python",
   "name": "python3"
  },
  "language_info": {
   "codemirror_mode": {
    "name": "ipython",
    "version": 3
   },
   "file_extension": ".py",
   "mimetype": "text/x-python",
   "name": "python",
   "nbconvert_exporter": "python",
   "pygments_lexer": "ipython3",
   "version": "3.11.9"
  }
 },
 "nbformat": 4,
 "nbformat_minor": 2
}
